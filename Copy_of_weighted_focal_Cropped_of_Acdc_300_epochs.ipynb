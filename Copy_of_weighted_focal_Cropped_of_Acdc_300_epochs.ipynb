{
  "cells": [
    {
      "cell_type": "markdown",
      "metadata": {
        "id": "view-in-github",
        "colab_type": "text"
      },
      "source": [
        "<a href=\"https://colab.research.google.com/github/Ankush169/BTP/blob/main/Copy_of_weighted_focal_Cropped_of_Acdc_300_epochs.ipynb\" target=\"_parent\"><img src=\"https://colab.research.google.com/assets/colab-badge.svg\" alt=\"Open In Colab\"/></a>"
      ]
    },
    {
      "cell_type": "code",
      "source": [
        "from google.colab import drive\n",
        "\n",
        "# This will prompt you to click a link and provide an authorization code\n",
        "drive.mount('/content/drive')"
      ],
      "metadata": {
        "id": "eLy-pmxysl-9",
        "colab": {
          "base_uri": "https://localhost:8080/"
        },
        "outputId": "7330ffda-1e45-4336-b0c3-dc9b1244d5a8"
      },
      "execution_count": null,
      "outputs": [
        {
          "output_type": "stream",
          "name": "stdout",
          "text": [
            "Drive already mounted at /content/drive; to attempt to forcibly remount, call drive.mount(\"/content/drive\", force_remount=True).\n"
          ]
        }
      ]
    },
    {
      "cell_type": "code",
      "execution_count": null,
      "metadata": {
        "id": "Tn_SoeYO3r7P"
      },
      "outputs": [],
      "source": [
        "\n",
        "\n",
        "import glob\n",
        "import os\n",
        "import numpy as np\n",
        "from matplotlib import pyplot as plt\n",
        "from tensorflow.keras.optimizers import Adam\n",
        "import tensorflow as tf\n",
        "from datetime import datetime\n",
        "import cv2\n",
        "from PIL import Image\n",
        "from keras import backend, optimizers\n",
        "import nibabel as nib\n",
        "import h5py\n",
        "from tensorflow.keras.utils import normalize"
      ]
    },
    {
      "cell_type": "code",
      "source": [
        "import tensorflow as tf\n"
      ],
      "metadata": {
        "id": "0XhTCGWLlgP0"
      },
      "execution_count": null,
      "outputs": []
    },
    {
      "cell_type": "code",
      "execution_count": null,
      "metadata": {
        "colab": {
          "base_uri": "https://localhost:8080/"
        },
        "id": "DhI1Ey9dtqg6",
        "outputId": "789cd471-2e38-4207-e785-6830c01e111d"
      },
      "outputs": [
        {
          "output_type": "stream",
          "name": "stdout",
          "text": [
            "Requirement already satisfied: segmentation_models in /usr/local/lib/python3.10/dist-packages (1.0.1)\n",
            "Requirement already satisfied: keras-applications<=1.0.8,>=1.0.7 in /usr/local/lib/python3.10/dist-packages (from segmentation_models) (1.0.8)\n",
            "Requirement already satisfied: image-classifiers==1.0.0 in /usr/local/lib/python3.10/dist-packages (from segmentation_models) (1.0.0)\n",
            "Requirement already satisfied: efficientnet==1.0.0 in /usr/local/lib/python3.10/dist-packages (from segmentation_models) (1.0.0)\n",
            "Requirement already satisfied: scikit-image in /usr/local/lib/python3.10/dist-packages (from efficientnet==1.0.0->segmentation_models) (0.19.3)\n",
            "Requirement already satisfied: numpy>=1.9.1 in /usr/local/lib/python3.10/dist-packages (from keras-applications<=1.0.8,>=1.0.7->segmentation_models) (1.23.5)\n",
            "Requirement already satisfied: h5py in /usr/local/lib/python3.10/dist-packages (from keras-applications<=1.0.8,>=1.0.7->segmentation_models) (3.9.0)\n",
            "Requirement already satisfied: scipy>=1.4.1 in /usr/local/lib/python3.10/dist-packages (from scikit-image->efficientnet==1.0.0->segmentation_models) (1.11.3)\n",
            "Requirement already satisfied: networkx>=2.2 in /usr/local/lib/python3.10/dist-packages (from scikit-image->efficientnet==1.0.0->segmentation_models) (3.2.1)\n",
            "Requirement already satisfied: pillow!=7.1.0,!=7.1.1,!=8.3.0,>=6.1.0 in /usr/local/lib/python3.10/dist-packages (from scikit-image->efficientnet==1.0.0->segmentation_models) (9.4.0)\n",
            "Requirement already satisfied: imageio>=2.4.1 in /usr/local/lib/python3.10/dist-packages (from scikit-image->efficientnet==1.0.0->segmentation_models) (2.31.6)\n",
            "Requirement already satisfied: tifffile>=2019.7.26 in /usr/local/lib/python3.10/dist-packages (from scikit-image->efficientnet==1.0.0->segmentation_models) (2023.9.26)\n",
            "Requirement already satisfied: PyWavelets>=1.1.1 in /usr/local/lib/python3.10/dist-packages (from scikit-image->efficientnet==1.0.0->segmentation_models) (1.4.1)\n",
            "Requirement already satisfied: packaging>=20.0 in /usr/local/lib/python3.10/dist-packages (from scikit-image->efficientnet==1.0.0->segmentation_models) (23.2)\n"
          ]
        }
      ],
      "source": [
        "!pip install segmentation_models\n"
      ]
    },
    {
      "cell_type": "code",
      "execution_count": null,
      "metadata": {
        "colab": {
          "base_uri": "https://localhost:8080/"
        },
        "id": "xNHHng0m43Sx",
        "outputId": "f975db39-59ef-4066-ab3c-51149f168962"
      },
      "outputs": [
        {
          "output_type": "stream",
          "name": "stdout",
          "text": [
            "Segmentation Models: using `keras` framework.\n"
          ]
        }
      ],
      "source": [
        "from segmentation_models.losses import CategoricalCELoss"
      ]
    },
    {
      "cell_type": "code",
      "execution_count": null,
      "metadata": {
        "id": "-FeUAQVst2hP"
      },
      "outputs": [],
      "source": [
        "class_weights = [1,3,4,2]\n"
      ]
    },
    {
      "cell_type": "code",
      "execution_count": null,
      "metadata": {
        "id": "MIKy-9EmuVyQ"
      },
      "outputs": [],
      "source": [
        "class_weights = np.asarray(class_weights)"
      ]
    },
    {
      "cell_type": "code",
      "execution_count": null,
      "metadata": {
        "id": "AeD5XgOHvDBD",
        "colab": {
          "base_uri": "https://localhost:8080/"
        },
        "outputId": "90ce4a33-0dd0-4cd2-c039-cb9db8e3add9"
      },
      "outputs": [
        {
          "output_type": "stream",
          "name": "stdout",
          "text": [
            "4\n"
          ]
        }
      ],
      "source": [
        "print(len(class_weights))"
      ]
    },
    {
      "cell_type": "code",
      "execution_count": null,
      "metadata": {
        "id": "Z8DzAljplPcP"
      },
      "outputs": [],
      "source": [
        "loss = CategoricalCELoss(class_weights = class_weights)\n",
        "\n"
      ]
    },
    {
      "cell_type": "code",
      "source": [
        "import keras"
      ],
      "metadata": {
        "id": "pTcWP-VinKiT"
      },
      "execution_count": null,
      "outputs": []
    },
    {
      "cell_type": "code",
      "execution_count": null,
      "metadata": {
        "colab": {
          "base_uri": "https://localhost:8080/",
          "height": 36
        },
        "id": "4DPAs2VYYHYO",
        "outputId": "bfa34ac9-d576-485a-b1e5-29674bfc0c92"
      },
      "outputs": [
        {
          "output_type": "execute_result",
          "data": {
            "text/plain": [
              "'2.14.0'"
            ],
            "application/vnd.google.colaboratory.intrinsic+json": {
              "type": "string"
            }
          },
          "metadata": {},
          "execution_count": 11
        }
      ],
      "source": [
        "keras.__version__"
      ]
    },
    {
      "cell_type": "code",
      "execution_count": null,
      "metadata": {
        "id": "58vrL5WvblEH"
      },
      "outputs": [],
      "source": [
        "from tensorflow.keras.preprocessing.image import ImageDataGenerator\n",
        "\n",
        "\n"
      ]
    },
    {
      "cell_type": "code",
      "execution_count": null,
      "metadata": {
        "colab": {
          "base_uri": "https://localhost:8080/"
        },
        "id": "HHC4-sxExcwb",
        "outputId": "82eaccd3-deba-459f-ad1a-32160fb3d8ef"
      },
      "outputs": [
        {
          "output_type": "stream",
          "name": "stdout",
          "text": [
            "Tue Nov 28 07:41:14 2023       \n",
            "+-----------------------------------------------------------------------------+\n",
            "| NVIDIA-SMI 525.105.17   Driver Version: 525.105.17   CUDA Version: 12.0     |\n",
            "|-------------------------------+----------------------+----------------------+\n",
            "| GPU  Name        Persistence-M| Bus-Id        Disp.A | Volatile Uncorr. ECC |\n",
            "| Fan  Temp  Perf  Pwr:Usage/Cap|         Memory-Usage | GPU-Util  Compute M. |\n",
            "|                               |                      |               MIG M. |\n",
            "|===============================+======================+======================|\n",
            "|   0  Tesla T4            Off  | 00000000:00:04.0 Off |                    0 |\n",
            "| N/A   45C    P8    10W /  70W |      0MiB / 15360MiB |      0%      Default |\n",
            "|                               |                      |                  N/A |\n",
            "+-------------------------------+----------------------+----------------------+\n",
            "                                                                               \n",
            "+-----------------------------------------------------------------------------+\n",
            "| Processes:                                                                  |\n",
            "|  GPU   GI   CI        PID   Type   Process name                  GPU Memory |\n",
            "|        ID   ID                                                   Usage      |\n",
            "|=============================================================================|\n",
            "|  No running processes found                                                 |\n",
            "+-----------------------------------------------------------------------------+\n"
          ]
        }
      ],
      "source": [
        "!nvidia-smi\n"
      ]
    },
    {
      "cell_type": "code",
      "source": [
        "import os\n",
        "file_path = '/content/drive/MyDrive/Cardiac/train_data/acdc_myo199_colget2_208_uint8.hdf5'\n",
        "if os.path.exists(file_path):\n",
        "    print(f\"The file at '{file_path}' exists.\")\n",
        "else:\n",
        "    print(f\"The file at '{file_path}' does not exist.\")\n"
      ],
      "metadata": {
        "colab": {
          "base_uri": "https://localhost:8080/"
        },
        "id": "u09axjASsg6R",
        "outputId": "b6e81e6a-3ebc-49c2-d0eb-ba810bd67f73"
      },
      "execution_count": null,
      "outputs": [
        {
          "output_type": "stream",
          "name": "stdout",
          "text": [
            "The file at '/content/drive/MyDrive/Cardiac/train_data/acdc_myo199_colget2_208_uint8.hdf5' exists.\n"
          ]
        }
      ]
    },
    {
      "cell_type": "code",
      "execution_count": null,
      "metadata": {
        "id": "qnDwT5q0sjxD"
      },
      "outputs": [],
      "source": [
        "f = h5py.File('/content/drive/MyDrive/Cardiac/train_data/acdc_myo199_colget2_208_uint8.hdf5','r')\n",
        "\n",
        "input_data = f['images'][...]\n",
        "\n",
        "label_data = f['masks'][...]\n",
        "\n",
        "\n",
        "\n"
      ]
    },
    {
      "cell_type": "code",
      "source": [],
      "metadata": {
        "id": "hy3kRjvpskeS"
      },
      "execution_count": null,
      "outputs": []
    },
    {
      "cell_type": "code",
      "source": [
        "f = h5py.File('/content/drive/MyDrive/Cardiac/train_data/acdc_myo199_cot2_rotaug_208_uint8_AA(2).hdf5','r')\n",
        "\n",
        "input_data = f['images'][...]\n",
        "\n",
        "label_data = f['masks'][...]\n",
        "\n",
        "\n",
        "\n"
      ],
      "metadata": {
        "id": "-zA8zv1f-bnW"
      },
      "execution_count": null,
      "outputs": []
    },
    {
      "cell_type": "code",
      "execution_count": null,
      "metadata": {
        "id": "TtBX_drIXTrg"
      },
      "outputs": [],
      "source": [
        "f = h5py.File('/content/drive/MyDrive/Cardiac/train_data/acdc_myo199_colget2_rotaug_208_uint8_FU_acdc_mscmr.hdf5','r')\n",
        "\n",
        "input_data = f['images'][...]\n",
        "\n",
        "label_data = f['masks'][...]\n",
        "\n",
        "\n",
        "\n"
      ]
    },
    {
      "cell_type": "code",
      "source": [
        "f = h5py.File('/content/drive/MyDrive/Cardiac/train_data/acdc_myo199_colget2_rotaug_208_uint8_FU_mscmr_acdc_AA.hdf5','r')\n",
        "\n",
        "input_data = f['images'][...]\n",
        "\n",
        "label_data = f['masks'][...]\n",
        "\n",
        "\n",
        "\n"
      ],
      "metadata": {
        "id": "GSSLHSO-gYaS"
      },
      "execution_count": null,
      "outputs": []
    },
    {
      "cell_type": "code",
      "source": [
        "f = h5py.File('/content/drive/MyDrive/Cardiac/train_data/acdc_myo199_colget2_rotaug_208_uint8_FU.hdf5','r')\n",
        "\n",
        "input_data = f['images'][...]\n",
        "\n",
        "label_data = f['masks'][...]\n",
        "\n",
        "\n",
        "\n"
      ],
      "metadata": {
        "id": "9_zS1Gs1lZaH"
      },
      "execution_count": null,
      "outputs": []
    },
    {
      "cell_type": "code",
      "execution_count": null,
      "metadata": {
        "id": "RRTmbWakY-8-"
      },
      "outputs": [],
      "source": [
        "f = h5py.File('/content/drive/MyDrive/Cardiac/train_data/M&M_208_uint8(2).hdf5','r')\n",
        "\n",
        "input_data = f['images'][...]\n",
        "\n",
        "label_data = f['masks'][...]\n",
        "\n",
        "\n",
        "\n"
      ]
    },
    {
      "cell_type": "code",
      "source": [],
      "metadata": {
        "id": "sYsp6UVItSJP"
      },
      "execution_count": null,
      "outputs": []
    },
    {
      "cell_type": "code",
      "execution_count": null,
      "metadata": {
        "id": "PE6gklCITvNe"
      },
      "outputs": [],
      "source": [
        "f = h5py.File('/content/drive/MyDrive/Cardiac/train_data/M&M_208__rotaug_uint8(2).hdf5','r')\n",
        "\n",
        "input_data = f['images'][...]\n",
        "\n",
        "label_data = f['masks'][...]\n",
        "\n",
        "\n",
        "\n"
      ]
    },
    {
      "cell_type": "code",
      "execution_count": null,
      "metadata": {
        "id": "Df7U3b3nmss5"
      },
      "outputs": [],
      "source": [
        "f = h5py.File('/content/drive/MyDrive/Cardiac/train_data/M&M_Training_208_uint8_sf.hdf5','r')\n",
        "\n",
        "input_data = f['images'][...]\n",
        "\n",
        "label_data = f['masks'][...]\n",
        "\n",
        "\n",
        "\n"
      ]
    },
    {
      "cell_type": "code",
      "execution_count": null,
      "metadata": {
        "id": "q99XSo2BnBTt"
      },
      "outputs": [],
      "source": [
        "f_val = h5py.File('/content/drive/MyDrive/Cardiac/train_data/M&M_Validation_208_uint8.hdf5','r')\n",
        "\n",
        "input_data_val = f_val['images'][...]\n",
        "\n",
        "label_data_val = f_val['masks'][...]\n",
        "\n",
        "\n",
        "\n"
      ]
    },
    {
      "cell_type": "code",
      "execution_count": null,
      "metadata": {
        "colab": {
          "base_uri": "https://localhost:8080/"
        },
        "id": "2WvndAgagRGw",
        "outputId": "520df7bb-117e-436f-9d3d-e34ed9c74f99"
      },
      "outputs": [
        {
          "output_type": "stream",
          "name": "stdout",
          "text": [
            "(5128, 208, 208)\n"
          ]
        }
      ],
      "source": [
        "print(label_data.shape)\n",
        "\n",
        "\n",
        "#print(label_data_val.shape)\n",
        "\n"
      ]
    },
    {
      "cell_type": "code",
      "execution_count": null,
      "metadata": {
        "colab": {
          "base_uri": "https://localhost:8080/"
        },
        "id": "MWqN2nO1sj_E",
        "outputId": "4b09eb0f-59f3-4d37-8541-b1e5442739ee"
      },
      "outputs": [
        {
          "output_type": "stream",
          "name": "stdout",
          "text": [
            "[0 1 2 3]\n"
          ]
        }
      ],
      "source": [
        "print(np.unique(label_data))\n",
        "\n",
        "#print(np.unique(label_data_val))\n",
        "\n"
      ]
    },
    {
      "cell_type": "code",
      "execution_count": null,
      "metadata": {
        "colab": {
          "base_uri": "https://localhost:8080/"
        },
        "id": "uYAHssGpskJW",
        "outputId": "c3c9fa0a-41dc-49f8-e8a5-c94ae57d2817"
      },
      "outputs": [
        {
          "output_type": "stream",
          "name": "stdout",
          "text": [
            "(5128, 208, 208)\n",
            "(5128, 208, 208)\n"
          ]
        }
      ],
      "source": [
        "print(input_data.shape)\n",
        "#print(input_data_val.shape)\n",
        "\n",
        "\n",
        "print(label_data.shape)\n",
        "#print(label_data_val.shape)\n"
      ]
    },
    {
      "cell_type": "code",
      "execution_count": null,
      "metadata": {
        "id": "hiLgncN11Oyo"
      },
      "outputs": [],
      "source": [
        "image_dataset = np.expand_dims(input_data,3)\n",
        "#val_img_dataset = np.expand_dims(input_data_val,3)\n",
        "\n",
        "\n",
        "mask_dataset = np.expand_dims(label_data,3)\n",
        "\n",
        "#val_mask_dataset= np.expand_dims(label_data_val,3)\n",
        "\n",
        "\n"
      ]
    },
    {
      "cell_type": "code",
      "execution_count": null,
      "metadata": {
        "colab": {
          "base_uri": "https://localhost:8080/"
        },
        "id": "vBJ_0CeCszVL",
        "outputId": "bf4ee4aa-551a-4a13-c5bf-38a37f425f20"
      },
      "outputs": [
        {
          "output_type": "stream",
          "name": "stdout",
          "text": [
            "(5128, 208, 208, 1)\n",
            "(5128, 208, 208, 1)\n"
          ]
        }
      ],
      "source": [
        "print(image_dataset.shape)\n",
        "print(mask_dataset.shape)\n",
        "\n",
        "#print(val_img_dataset.shape)\n",
        "#print(val_mask_dataset.shape)\n"
      ]
    },
    {
      "cell_type": "code",
      "execution_count": null,
      "metadata": {
        "id": "59hzkB9GG91h"
      },
      "outputs": [],
      "source": [
        "\n",
        "\n",
        "from sklearn.model_selection import train_test_split\n",
        "\n",
        "\n",
        "X_train, X_test, y_train, y_test = train_test_split(image_dataset, mask_dataset, test_size= 0.10, random_state = 0)\n"
      ]
    },
    {
      "cell_type": "code",
      "execution_count": null,
      "metadata": {
        "id": "OYlTkDIlrIAE"
      },
      "outputs": [],
      "source": [
        "X_train = image_dataset\n",
        "y_train = mask_dataset\n",
        "\n",
        "#X_test = val_img_dataset\n",
        "#y_test = val_mask_dataset"
      ]
    },
    {
      "cell_type": "code",
      "execution_count": null,
      "metadata": {
        "colab": {
          "base_uri": "https://localhost:8080/"
        },
        "id": "5I_5fTUnG977",
        "outputId": "2fa80fe0-bfce-443e-f0cc-d34b09c78565"
      },
      "outputs": [
        {
          "output_type": "execute_result",
          "data": {
            "text/plain": [
              "(513, 208, 208, 1)"
            ]
          },
          "metadata": {},
          "execution_count": 23
        }
      ],
      "source": [
        "X_test.shape\n"
      ]
    },
    {
      "cell_type": "code",
      "source": [
        "X_train.shape"
      ],
      "metadata": {
        "colab": {
          "base_uri": "https://localhost:8080/"
        },
        "id": "dIONXvHMFmeG",
        "outputId": "7eb32b3b-83f7-4233-8145-622e0dd0dbca"
      },
      "execution_count": null,
      "outputs": [
        {
          "output_type": "execute_result",
          "data": {
            "text/plain": [
              "(5128, 208, 208, 1)"
            ]
          },
          "metadata": {},
          "execution_count": 24
        }
      ]
    },
    {
      "cell_type": "code",
      "execution_count": null,
      "metadata": {
        "colab": {
          "base_uri": "https://localhost:8080/",
          "height": 332
        },
        "id": "Ni7qpBHsnjR-",
        "outputId": "ef9a9085-6ea4-4682-ea66-2b3c3d297883"
      },
      "outputs": [
        {
          "output_type": "display_data",
          "data": {
            "text/plain": [
              "<Figure size 1200x600 with 2 Axes>"
            ],
            "image/png": "[encoded data removed]"
          },
          "metadata": {}
        }
      ],
      "source": [
        "import random\n",
        "import numpy as np\n",
        "image_number = random.randint(0, len(X_train))\n",
        "\n",
        "test_number = random.randint(0,len(y_train))\n",
        "\n",
        "plt.figure(figsize=(12, 6))\n",
        "\n",
        "plt.subplot(121)\n",
        "plt.imshow(np.reshape(X_train[image_number], (208,208)), cmap='gray')\n",
        "\n",
        "plt.subplot(122)\n",
        "\n",
        "plt.imshow(np.reshape(y_train[image_number], (208, 208)), cmap='gray')\n",
        "\n",
        "\n",
        "plt.show()\n",
        "\n",
        "\n"
      ]
    },
    {
      "cell_type": "code",
      "source": [],
      "metadata": {
        "id": "RJNtj8q4VzFQ"
      },
      "execution_count": null,
      "outputs": []
    },
    {
      "cell_type": "code",
      "execution_count": null,
      "metadata": {
        "id": "4IX2CJj4Db_G"
      },
      "outputs": [],
      "source": []
    },
    {
      "cell_type": "code",
      "execution_count": null,
      "metadata": {
        "id": "fej9i_9Pnj6D"
      },
      "outputs": [],
      "source": [
        "\n",
        "from tensorflow.keras.utils import to_categorical\n",
        "train_masks_cat = to_categorical(y_train, num_classes=4)\n",
        "y_train_cat = train_masks_cat.reshape((y_train.shape[0], y_train.shape[1], y_train.shape[2], 4))\n",
        "\n",
        "\n",
        "test_masks_cat = to_categorical(y_test, num_classes=4)\n",
        "y_test_cat = test_masks_cat.reshape((y_test.shape[0], y_test.shape[1], y_test.shape[2], 4))\n"
      ]
    },
    {
      "cell_type": "code",
      "execution_count": null,
      "metadata": {
        "id": "KjqU6pdnWbqW"
      },
      "outputs": [],
      "source": []
    },
    {
      "cell_type": "code",
      "execution_count": null,
      "metadata": {
        "colab": {
          "base_uri": "https://localhost:8080/"
        },
        "id": "dyRHUa8Pnj_v",
        "outputId": "5e902345-39f3-4f16-ed74-881fe4e4becb"
      },
      "outputs": [
        {
          "output_type": "stream",
          "name": "stdout",
          "text": [
            "(513, 208, 208, 4)\n"
          ]
        }
      ],
      "source": [
        "print(y_test_cat.shape)\n",
        "\n"
      ]
    },
    {
      "cell_type": "code",
      "execution_count": null,
      "metadata": {
        "colab": {
          "base_uri": "https://localhost:8080/"
        },
        "id": "ZhunalSSnkGX",
        "outputId": "607f5bf2-da7c-4aca-f79e-2f3386614bdb"
      },
      "outputs": [
        {
          "output_type": "execute_result",
          "data": {
            "text/plain": [
              "(5128, 208, 208, 4)"
            ]
          },
          "metadata": {},
          "execution_count": 28
        }
      ],
      "source": [
        "y_train_cat.shape\n"
      ]
    },
    {
      "cell_type": "code",
      "execution_count": null,
      "metadata": {
        "id": "5Si6b6hxnkNe"
      },
      "outputs": [],
      "source": []
    },
    {
      "cell_type": "code",
      "execution_count": null,
      "metadata": {
        "id": "-mIVnHf4nkTt"
      },
      "outputs": [],
      "source": [
        "\n",
        "#Parameters for model\n",
        "\n",
        "IMG_HEIGHT = X_train.shape[1]\n",
        "IMG_WIDTH = X_train.shape[2]\n",
        "\n",
        "\n",
        "IMG_CHANNELS = X_train.shape[3]\n",
        "\n",
        "num_labels = 4  # binary\n",
        "\n",
        "input_shape = (IMG_HEIGHT, IMG_WIDTH, IMG_CHANNELS)\n",
        "batch_size = 8"
      ]
    },
    {
      "cell_type": "code",
      "execution_count": null,
      "metadata": {
        "colab": {
          "base_uri": "https://localhost:8080/",
          "height": 175
        },
        "id": "efDjIXru5mE_",
        "outputId": "45cdb3cb-ee8e-4c02-940d-f6295fab34b6"
      },
      "outputs": [
        {
          "output_type": "error",
          "ename": "NameError",
          "evalue": "ignored",
          "traceback": [
            "\u001b[0;31m---------------------------------------------------------------------------\u001b[0m",
            "\u001b[0;31mNameError\u001b[0m                                 Traceback (most recent call last)",
            "\u001b[0;32m<ipython-input-32-926d9a6489d3>\u001b[0m in \u001b[0;36m<cell line: 1>\u001b[0;34m()\u001b[0m\n\u001b[0;32m----> 1\u001b[0;31m \u001b[0mloss\u001b[0m \u001b[0;34m=\u001b[0m \u001b[0mCategoricalFocalLoss\u001b[0m\u001b[0;34m(\u001b[0m\u001b[0;34m)\u001b[0m\u001b[0;34m\u001b[0m\u001b[0;34m\u001b[0m\u001b[0m\n\u001b[0m",
            "\u001b[0;31mNameError\u001b[0m: name 'CategoricalFocalLoss' is not defined"
          ]
        }
      ],
      "source": [
        "loss = CategoricalFocalLoss()\n"
      ]
    },
    {
      "cell_type": "code",
      "execution_count": null,
      "metadata": {
        "id": "QZfU0rrlsUdi"
      },
      "outputs": [],
      "source": [
        "#from tensorflow.tools.docs.doc_controls import T\n",
        "import tensorflow as tf\n",
        "from tensorflow.keras import models, layers, regularizers\n",
        "\n",
        "from tensorflow.keras import backend as K\n",
        "\n",
        "'''\n",
        "metrics and losses\n",
        "'''\n",
        "\n",
        "from keras.layers import GlobalAveragePooling2D, Reshape, Dense, multiply, add, Permute, Conv2D\n",
        "from keras import backend as K\n",
        "\n",
        "\n",
        "def squeeze_excite_block(input, ratio=16):\n",
        "    ''' Create a channel-wise squeeze-excite block\n",
        "    Args:\n",
        "        input: input tensor\n",
        "        filters: number of output filters\n",
        "    Returns: a keras tensor\n",
        "    References\n",
        "    -   [Squeeze and Excitation Networks](https://arxiv.org/abs/1709.01507)\n",
        "    '''\n",
        "    init = input\n",
        "    channel_axis = 1 if K.image_data_format() == \"channels_first\" else -1\n",
        "    filters = init.shape[channel_axis]\n",
        "    se_shape = (1, 1, filters)\n",
        "\n",
        "    se = GlobalAveragePooling2D()(init)\n",
        "    se = Reshape(se_shape)(se)\n",
        "    se = Dense(filters // ratio, activation='relu', kernel_initializer='he_normal', use_bias=False)(se)\n",
        "    se = Dense(filters, activation='sigmoid', kernel_initializer='he_normal', use_bias=False)(se)\n",
        "\n",
        "    if K.image_data_format() == 'channels_first':\n",
        "        se = Permute((3, 1, 2))(se)\n",
        "\n",
        "    x = multiply([init, se])\n",
        "    return x\n",
        "\n",
        "def spatial_squeeze_excite_block(input):\n",
        "    ''' Create a spatial squeeze-excite block\n",
        "    Args:\n",
        "        input: input tensor\n",
        "    Returns: a keras tensor\n",
        "    References\n",
        "    -   [Concurrent Spatial and Channel Squeeze & Excitation in Fully Convolutional Networks](https://arxiv.org/abs/1803.02579)\n",
        "    '''\n",
        "\n",
        "    se = Conv2D(1, (1, 1), activation='sigmoid', use_bias=False,\n",
        "                kernel_initializer='he_normal')(input)\n",
        "\n",
        "    x = multiply([input, se])\n",
        "    return x\n",
        "\n",
        "\n",
        "def channel_spatial_squeeze_excite(input, ratio=16):\n",
        "    ''' Create a spatial squeeze-excite block\n",
        "    Args:\n",
        "        input: input tensor\n",
        "        filters: number of output filters\n",
        "    Returns: a keras tensor\n",
        "    References\n",
        "    -   [Squeeze and Excitation Networks](https://arxiv.org/abs/1709.01507)\n",
        "    -   [Concurrent Spatial and Channel Squeeze & Excitation in Fully Convolutional Networks](https://arxiv.org/abs/1803.02579)\n",
        "    '''\n",
        "\n",
        "    cse = squeeze_excite_block(input, ratio)\n",
        "    sse = spatial_squeeze_excite_block(input)\n",
        "\n",
        "    x = add([cse, sse])\n",
        "    return x\n",
        "\n",
        "\n",
        "\n",
        "\n",
        "def dice_coef(y_true, y_pred):\n",
        "    y_true_f = K.flatten(y_true)\n",
        "    y_pred_f = K.flatten(y_pred)\n",
        "    intersection = K.sum(y_true_f * y_pred_f)\n",
        "    return (2.0 * intersection + 1.0) / (K.sum(y_true_f) + K.sum(y_pred_f) + 1.0)\n",
        "\n",
        "\n",
        "def jacard_coef(y_true, y_pred):\n",
        "    y_true_f = K.flatten(y_true)\n",
        "    y_pred_f = K.flatten(y_pred)\n",
        "    intersection = K.sum(y_true_f * y_pred_f)\n",
        "    return (intersection + 1.0) / (K.sum(y_true_f) + K.sum(y_pred_f) - intersection + 1.0)\n",
        "\n",
        "\n",
        "def jacard_coef_loss(y_true, y_pred):\n",
        "    return -jacard_coef(y_true, y_pred)\n",
        "\n",
        "\n",
        "def dice_coef_loss(y_true, y_pred):\n",
        "    return -dice_coef(y_true, y_pred)\n",
        "\n",
        "\n",
        "def dconv_block(x, filter_size, size, dropout, dilation_factor, batch_norm=False):\n",
        "\n",
        "  dconv = layers.Conv2D(size, (filter_size, filter_size),  padding = \"same\", dilation_rate = (dilation_factor, dilation_factor))(x)\n",
        "\n",
        "  if batch_norm is True:\n",
        "    dconv = layers.BatchNormalization(axis=3)(dconv)\n",
        "  dconv = layers.Activation(\"relu\")(dconv)\n",
        "\n",
        "  return dconv\n",
        "\n",
        "def miSE_res_Dconv_net(input_shape, NUM_CLASSES=4, drop_rate=0.0, batch_norm=True):\n",
        "\n",
        "  '''\n",
        "  Res_Dconv_net,\n",
        "  '''\n",
        "\n",
        "  #network structure\n",
        "  FILTER_NUM = 16 # number of filters for the first layer\n",
        "  FILTER_SIZE = 3 # size of the convolutional filter\n",
        "  UPSAMP_SIZE = 2 # size of the upsampling filters\n",
        "  DILATION_RATE = 1 #\n",
        "\n",
        "\n",
        "  inputs = layers.Input(input_shape, dtype=tf.float32)\n",
        "\n",
        "  # Network start\n",
        "  dconv_1 = dconv_block(inputs, 9, FILTER_NUM, drop_rate, DILATION_RATE, batch_norm= True)\n",
        "  dconv_2 = dconv_block(dconv_1, 7, FILTER_NUM*4, drop_rate, DILATION_RATE*2, batch_norm = True)\n",
        "\n",
        "  dconv_3 = dconv_block(dconv_2, 5, FILTER_NUM*4, drop_rate, DILATION_RATE*4, batch_norm = True)\n",
        "\n",
        "\n",
        "\n",
        "  dconv_4 = dconv_block(dconv_3, 3, FILTER_NUM*4, drop_rate, DILATION_RATE*6, batch_norm= True)\n",
        "\n",
        "  shortcut = layers.Conv2D(FILTER_NUM*4, (1,1), padding = 'same')(dconv_3)\n",
        "  shortcut = layers.BatchNormalization(axis=3)(shortcut)\n",
        "  shortcut = layers.Activation(\"relu\")(shortcut)\n",
        "  res_path_1 = layers.add([shortcut, dconv_4])\n",
        "  res_path_1 =layers.Activation(\"relu\")(res_path_1)\n",
        "  se = channel_spatial_squeeze_excite(res_path_1, ratio=8)\n",
        "\n",
        "  dconv_5 = dconv_block(se, 3, FILTER_NUM*8, drop_rate, DILATION_RATE*8, batch_norm = True)\n",
        "\n",
        "  shortcut = layers.Conv2D(FILTER_NUM*8, (1,1), padding = 'same')(dconv_2)\n",
        "  shortcut = layers.BatchNormalization(axis=3)(shortcut)\n",
        "  shortcut = layers.Activation(\"relu\")(shortcut)\n",
        "  res_path_2 = layers.add([shortcut, dconv_5])\n",
        "  res_path_2 = layers.Activation(\"relu\")(res_path_2)\n",
        "  se_2 = channel_spatial_squeeze_excite(res_path_2, ratio=8)\n",
        "\n",
        "\n",
        "  dconv_6 = dconv_block(se_2, 3, FILTER_NUM*4, drop_rate, DILATION_RATE*4, batch_norm= True)\n",
        "\n",
        "  # 1*1 Convolution layer\n",
        "  dconv_final = layers.Conv2D(NUM_CLASSES, (1,1), padding= 'same')(dconv_6)\n",
        "  dconv_final = layers.BatchNormalization(axis=3)(dconv_final)\n",
        "  dconv_final = layers.Activation('softmax')(dconv_final)\n",
        "\n",
        "  # Define model\n",
        "  model = models.Model(inputs, dconv_final, name= \"lese_res_Dconet\")\n",
        "  print(model.summary())\n",
        "  return model\n",
        "\n",
        "input_shape = (208,208,1)"
      ]
    },
    {
      "cell_type": "code",
      "source": [],
      "metadata": {
        "id": "DU6w1jzDxt8g"
      },
      "execution_count": null,
      "outputs": []
    },
    {
      "cell_type": "code",
      "execution_count": null,
      "metadata": {
        "id": "fpxI8MCpr-tT"
      },
      "outputs": [],
      "source": [
        "# -*- coding: utf-8 -*-\n",
        "\"\"\"\n",
        "Created on Sun Oct 24 16:52:36 2021\n",
        "\n",
        "@author: SanjeetXlar\n",
        "\"\"\"\n",
        "\n",
        "\n",
        "import tensorflow as tf\n",
        "from tensorflow.keras import models, layers, regularizers\n",
        "from tensorflow.keras import backend as K\n",
        "\n",
        "\n",
        "\n",
        "\n",
        "'''\n",
        "A few useful metrics and losses\n",
        "'''\n",
        "\n",
        "def dice_coef(y_true, y_pred):\n",
        "    y_true_f = K.flatten(y_true)\n",
        "    y_pred_f = K.flatten(y_pred)\n",
        "    intersection = K.sum(y_true_f * y_pred_f)\n",
        "    return (2.0 * intersection + 1.0) / (K.sum(y_true_f) + K.sum(y_pred_f) + 1.0)\n",
        "\n",
        "\n",
        "def jacard_coef(y_true, y_pred):\n",
        "    y_true_f = K.flatten(y_true)\n",
        "    y_pred_f = K.flatten(y_pred)\n",
        "    intersection = K.sum(y_true_f * y_pred_f)\n",
        "    return (intersection + 1.0) / (K.sum(y_true_f) + K.sum(y_pred_f) - intersection + 1.0)\n",
        "\n",
        "\n",
        "def jacard_coef_loss(y_true, y_pred):\n",
        "    return -jacard_coef(y_true, y_pred)\n",
        "\n",
        "\n",
        "def dice_coef_loss(y_true, y_pred):\n",
        "    return -dice_coef(y_true, y_pred)\n",
        "\n",
        "\n",
        "##############################################################\n",
        "'''\n",
        "Useful blocks to build Unet\n",
        "conv - BN - Activation - conv - BN - Activation - Dropout (if enabled)\n",
        "'''\n",
        "\n",
        "\n",
        "def conv_block(x, filter_size, size, dropout, batch_norm=False):\n",
        "\n",
        "    conv = layers.Conv2D(size, (filter_size, filter_size), padding=\"same\")(x)\n",
        "    if batch_norm is True:\n",
        "        conv = layers.BatchNormalization(axis=3)(conv)\n",
        "    conv = layers.Activation(\"relu\")(conv)\n",
        "\n",
        "    conv = layers.Conv2D(size, (filter_size, filter_size), padding=\"same\")(conv)\n",
        "    if batch_norm is True:\n",
        "        conv = layers.BatchNormalization(axis=3)(conv)\n",
        "    conv = layers.Activation(\"relu\")(conv)\n",
        "\n",
        "    if dropout > 0:\n",
        "        conv = layers.Dropout(dropout)(conv)\n",
        "\n",
        "    return conv\n",
        "\n",
        "\n",
        "def repeat_elem(tensor, rep):\n",
        "    # lambda function to repeat Repeats the elements of a tensor along an axis\n",
        "    #by a factor of rep.\n",
        "    # If tensor has shape (None, 256,256,3), lambda will return a tensor of shape\n",
        "    #(None, 256,256,6), if specified axis=3 and rep=2.\n",
        "\n",
        "     return layers.Lambda(lambda x, repnum: K.repeat_elements(x, repnum, axis=3),\n",
        "                          arguments={'repnum': rep})(tensor)\n",
        "\n",
        "def SEres_conv_block(x, filter_size, size, dropout, batch_norm=False):\n",
        "    '''\n",
        "    Residual convolutional layer.\n",
        "    Two variants....\n",
        "    Either put activation function before the addition with shortcut\n",
        "    or after the addition (which would be as proposed in the original resNet).\n",
        "\n",
        "    1. conv - BN - Activation - conv - BN - Activation\n",
        "                                          - shortcut  - BN - shortcut+BN\n",
        "\n",
        "    2. conv - BN - Activation - conv - BN\n",
        "                                     - shortcut  - BN - shortcut+BN - Activation\n",
        "\n",
        "    Check fig 4 in https://arxiv.org/ftp/arxiv/papers/1802/1802.06955.pdf\n",
        "    '''\n",
        "\n",
        "    conv = layers.Conv2D(size, (filter_size, filter_size), padding='same')(x)\n",
        "    if batch_norm is True:\n",
        "        conv = layers.BatchNormalization(axis=3)(conv)\n",
        "    conv = layers.Activation('relu')(conv)\n",
        "\n",
        "    conv = layers.Conv2D(size, (filter_size, filter_size), padding='same')(conv)\n",
        "    if batch_norm is True:\n",
        "        conv = layers.BatchNormalization(axis=3)(conv)\n",
        "    #conv = layers.Activation('relu')(conv)    #Activation before addition with shortcut\n",
        "    if dropout > 0:\n",
        "        conv = layers.Dropout(dropout)(conv)\n",
        "\n",
        "    shortcut = layers.Conv2D(size, kernel_size=(1, 1), padding='same')(x)\n",
        "    if batch_norm is True:\n",
        "        shortcut = layers.BatchNormalization(axis=3)(shortcut)\n",
        "\n",
        "    res_path = layers.add([shortcut, conv])\n",
        "    res_path = layers.Activation('relu')(res_path)\n",
        "    se = channel_spatial_squeeze_excite(res_path, ratio=8)    #Activation after addition with shortcut (Original residual block)\n",
        "    return se\n",
        "\n",
        "def res_conv_block(x, filter_size, size, dropout, batch_norm=False):\n",
        "    '''\n",
        "    Residual convolutional layer.\n",
        "    Two variants....\n",
        "    Either put activation function before the addition with shortcut\n",
        "    or after the addition (which would be as proposed in the original resNet).\n",
        "\n",
        "    1. conv - BN - Activation - conv - BN - Activation\n",
        "                                          - shortcut  - BN - shortcut+BN\n",
        "\n",
        "    2. conv - BN - Activation - conv - BN\n",
        "                                     - shortcut  - BN - shortcut+BN - Activation\n",
        "\n",
        "    Check fig 4 in https://arxiv.org/ftp/arxiv/papers/1802/1802.06955.pdf\n",
        "    '''\n",
        "\n",
        "    conv = layers.Conv2D(size, (filter_size, filter_size), padding='same')(x)\n",
        "    if batch_norm is True:\n",
        "        conv = layers.BatchNormalization(axis=3)(conv)\n",
        "    conv = layers.Activation('relu')(conv)\n",
        "\n",
        "    conv = layers.Conv2D(size, (filter_size, filter_size), padding='same')(conv)\n",
        "    if batch_norm is True:\n",
        "        conv = layers.BatchNormalization(axis=3)(conv)\n",
        "    #conv = layers.Activation('relu')(conv)    #Activation before addition with shortcut\n",
        "    if dropout > 0:\n",
        "        conv = layers.Dropout(dropout)(conv)\n",
        "\n",
        "    shortcut = layers.Conv2D(size, kernel_size=(1, 1), padding='same')(x)\n",
        "    if batch_norm is True:\n",
        "        shortcut = layers.BatchNormalization(axis=3)(shortcut)\n",
        "\n",
        "    res_path = layers.add([shortcut, conv])\n",
        "    res_path = layers.Activation('relu')(res_path)    #Activation after addition with shortcut (Original residual block)\n",
        "    return res_path\n",
        "\n",
        "def gating_signal(input, out_size, batch_norm=False):\n",
        "    \"\"\"\n",
        "    resize the down layer feature map into the same dimension as the up layer feature map\n",
        "    using 1x1 conv\n",
        "    :return: the gating feature map with the same dimension of the up layer feature map\n",
        "    \"\"\"\n",
        "    x = layers.Conv2D(out_size, (1, 1), padding='same')(input)\n",
        "    if batch_norm:\n",
        "        x = layers.BatchNormalization()(x)\n",
        "    x = layers.Activation('relu')(x)\n",
        "    return x\n",
        "\n",
        "def attention_block(x, gating, inter_shape):\n",
        "    shape_x = K.int_shape(x)\n",
        "    shape_g = K.int_shape(gating)\n",
        "\n",
        "# Getting the x signal to the same shape as the gating signal\n",
        "    theta_x = layers.Conv2D(inter_shape, (2, 2), strides=(2, 2), padding='same')(x)  # 16\n",
        "    shape_theta_x = K.int_shape(theta_x)\n",
        "\n",
        "# Getting the gating signal to the same number of filters as the inter_shape\n",
        "    phi_g = layers.Conv2D(inter_shape, (1, 1), padding='same')(gating)\n",
        "    upsample_g = layers.Conv2DTranspose(inter_shape, (3, 3),\n",
        "                                 strides=(shape_theta_x[1] // shape_g[1], shape_theta_x[2] // shape_g[2]),\n",
        "                                 padding='same')(phi_g)  # 16\n",
        "\n",
        "    concat_xg = layers.add([upsample_g, theta_x])\n",
        "    act_xg = layers.Activation('relu')(concat_xg)\n",
        "    psi = layers.Conv2D(1, (1, 1), padding='same')(act_xg)\n",
        "    sigmoid_xg = layers.Activation('sigmoid')(psi)\n",
        "    shape_sigmoid = K.int_shape(sigmoid_xg)\n",
        "    upsample_psi = layers.UpSampling2D(size=(shape_x[1] // shape_sigmoid[1], shape_x[2] // shape_sigmoid[2]))(sigmoid_xg)  # 32\n",
        "\n",
        "    upsample_psi = repeat_elem(upsample_psi, shape_x[3])\n",
        "\n",
        "    y = layers.multiply([upsample_psi, x])\n",
        "\n",
        "    result = layers.Conv2D(shape_x[3], (1, 1), padding='same')(y)\n",
        "    result_bn = layers.BatchNormalization()(result)\n",
        "    return result_bn\n",
        "\n",
        "\n",
        "\n",
        "\n",
        "def UNet(input_shape, NUM_CLASSES=4, dropout_rate=0.0, batch_norm=True):\n",
        "    '''\n",
        "    UNet,\n",
        "\n",
        "    '''\n",
        "    # network structure\n",
        "    FILTER_NUM = 64 # number of filters for the first layer\n",
        "    FILTER_SIZE = 3 # size of the convolutional filter\n",
        "    UP_SAMP_SIZE = 2 # size of upsampling filters\n",
        "\n",
        "\n",
        "    inputs = layers.Input(input_shape, dtype=tf.float32)\n",
        "\n",
        "    # Downsampling layers\n",
        "    # DownRes 1, convolution + pooling\n",
        "    conv_128 = conv_block(inputs, FILTER_SIZE, FILTER_NUM, dropout_rate, batch_norm)\n",
        "    pool_64 = layers.MaxPooling2D(pool_size=(2,2))(conv_128)\n",
        "    # DownRes 2\n",
        "    conv_64 = conv_block(pool_64, FILTER_SIZE, 2*FILTER_NUM, dropout_rate, batch_norm)\n",
        "    pool_32 = layers.MaxPooling2D(pool_size=(2,2))(conv_64)\n",
        "    # DownRes 3\n",
        "    conv_32 = conv_block(pool_32, FILTER_SIZE, 4*FILTER_NUM, dropout_rate, batch_norm)\n",
        "    pool_16 = layers.MaxPooling2D(pool_size=(2,2))(conv_32)\n",
        "    # DownRes 4\n",
        "    conv_16 = conv_block(pool_16, FILTER_SIZE, 8*FILTER_NUM, dropout_rate, batch_norm)\n",
        "    pool_8 = layers.MaxPooling2D(pool_size=(2,2))(conv_16)\n",
        "    # DownRes 5, convolution only\n",
        "    conv_8 = conv_block(pool_8, FILTER_SIZE, 16*FILTER_NUM, dropout_rate, batch_norm)\n",
        "\n",
        "    # Upsampling layers\n",
        "\n",
        "    up_16 = layers.UpSampling2D(size=(UP_SAMP_SIZE, UP_SAMP_SIZE), data_format=\"channels_last\")(conv_8)\n",
        "    up_16 = layers.concatenate([up_16, conv_16], axis=3)\n",
        "    up_conv_16 = conv_block(up_16, FILTER_SIZE, 8*FILTER_NUM, dropout_rate, batch_norm)\n",
        "    # UpRes 7\n",
        "\n",
        "    up_32 = layers.UpSampling2D(size=(UP_SAMP_SIZE, UP_SAMP_SIZE), data_format=\"channels_last\")(up_conv_16)\n",
        "    up_32 = layers.concatenate([up_32, conv_32], axis=3)\n",
        "    up_conv_32 = conv_block(up_32, FILTER_SIZE, 4*FILTER_NUM, dropout_rate, batch_norm)\n",
        "    # UpRes 8\n",
        "\n",
        "    up_64 = layers.UpSampling2D(size=(UP_SAMP_SIZE, UP_SAMP_SIZE), data_format=\"channels_last\")(up_conv_32)\n",
        "    up_64 = layers.concatenate([up_64, conv_64], axis=3)\n",
        "    up_conv_64 = conv_block(up_64, FILTER_SIZE, 2*FILTER_NUM, dropout_rate, batch_norm)\n",
        "    # UpRes 9\n",
        "\n",
        "    up_128 = layers.UpSampling2D(size=(UP_SAMP_SIZE, UP_SAMP_SIZE), data_format=\"channels_last\")(up_conv_64)\n",
        "    up_128 = layers.concatenate([up_128, conv_128], axis=3)\n",
        "    up_conv_128 = conv_block(up_128, FILTER_SIZE, FILTER_NUM, dropout_rate, batch_norm)\n",
        "\n",
        "    # 1*1 convolutional layers\n",
        "\n",
        "    conv_final = layers.Conv2D(NUM_CLASSES, kernel_size=(1,1))(up_conv_128)\n",
        "    conv_final = layers.BatchNormalization(axis=3)(conv_final)\n",
        "    conv_final = layers.Activation('softmax')(conv_final)  #Change to softmax for multichannel\n",
        "\n",
        "    # Model\n",
        "    model = models.Model(inputs, conv_final, name=\"UNet\")\n",
        "    print(model.summary())\n",
        "    return model\n",
        "\n",
        "def Attention_UNet(input_shape, NUM_CLASSES=4, dropout_rate=0.0, batch_norm=True):\n",
        "    '''\n",
        "    Attention UNet,\n",
        "\n",
        "    '''\n",
        "    # network structure\n",
        "    FILTER_NUM = 64 # number of basic filters for the first layer\n",
        "    FILTER_SIZE = 3 # size of the convolutional filter\n",
        "    UP_SAMP_SIZE = 2 # size of upsampling filters\n",
        "\n",
        "    inputs = layers.Input(input_shape, dtype=tf.float32)\n",
        "\n",
        "    # Downsampling layers\n",
        "    # DownRes 1, convolution + pooling\n",
        "    conv_128 = conv_block(inputs, FILTER_SIZE, FILTER_NUM, dropout_rate, batch_norm)\n",
        "    pool_64 = layers.MaxPooling2D(pool_size=(2,2))(conv_128)\n",
        "    # DownRes 2\n",
        "    conv_64 = conv_block(pool_64, FILTER_SIZE, 2*FILTER_NUM, dropout_rate, batch_norm)\n",
        "    pool_32 = layers.MaxPooling2D(pool_size=(2,2))(conv_64)\n",
        "    # DownRes 3\n",
        "    conv_32 = conv_block(pool_32, FILTER_SIZE, 4*FILTER_NUM, dropout_rate, batch_norm)\n",
        "    pool_16 = layers.MaxPooling2D(pool_size=(2,2))(conv_32)\n",
        "    # DownRes 4\n",
        "    conv_16 = conv_block(pool_16, FILTER_SIZE, 8*FILTER_NUM, dropout_rate, batch_norm)\n",
        "    pool_8 = layers.MaxPooling2D(pool_size=(2,2))(conv_16)\n",
        "    # DownRes 5, convolution only\n",
        "    conv_8 = conv_block(pool_8, FILTER_SIZE, 16*FILTER_NUM, dropout_rate, batch_norm)\n",
        "\n",
        "    # Upsampling layers\n",
        "    # UpRes 6, attention gated concatenation + upsampling + double residual convolution\n",
        "    gating_16 = gating_signal(conv_8, 8*FILTER_NUM, batch_norm)\n",
        "    att_16 = attention_block(conv_16, gating_16, 8*FILTER_NUM)\n",
        "    up_16 = layers.UpSampling2D(size=(UP_SAMP_SIZE, UP_SAMP_SIZE), data_format=\"channels_last\")(conv_8)\n",
        "    up_16 = layers.concatenate([up_16, att_16], axis=3)\n",
        "    up_conv_16 = conv_block(up_16, FILTER_SIZE, 8*FILTER_NUM, dropout_rate, batch_norm)\n",
        "    # UpRes 7\n",
        "    gating_32 = gating_signal(up_conv_16, 4*FILTER_NUM, batch_norm)\n",
        "    att_32 = attention_block(conv_32, gating_32, 4*FILTER_NUM)\n",
        "    up_32 = layers.UpSampling2D(size=(UP_SAMP_SIZE, UP_SAMP_SIZE), data_format=\"channels_last\")(up_conv_16)\n",
        "    up_32 = layers.concatenate([up_32, att_32], axis=3)\n",
        "    up_conv_32 = conv_block(up_32, FILTER_SIZE, 4*FILTER_NUM, dropout_rate, batch_norm)\n",
        "    # UpRes 8\n",
        "    gating_64 = gating_signal(up_conv_32, 2*FILTER_NUM, batch_norm)\n",
        "    att_64 = attention_block(conv_64, gating_64, 2*FILTER_NUM)\n",
        "    up_64 = layers.UpSampling2D(size=(UP_SAMP_SIZE, UP_SAMP_SIZE), data_format=\"channels_last\")(up_conv_32)\n",
        "    up_64 = layers.concatenate([up_64, att_64], axis=3)\n",
        "    up_conv_64 = conv_block(up_64, FILTER_SIZE, 2*FILTER_NUM, dropout_rate, batch_norm)\n",
        "    # UpRes 9\n",
        "    gating_128 = gating_signal(up_conv_64, FILTER_NUM, batch_norm)\n",
        "    att_128 = attention_block(conv_128, gating_128, FILTER_NUM)\n",
        "    up_128 = layers.UpSampling2D(size=(UP_SAMP_SIZE, UP_SAMP_SIZE), data_format=\"channels_last\")(up_conv_64)\n",
        "    up_128 = layers.concatenate([up_128, att_128], axis=3)\n",
        "    up_conv_128 = conv_block(up_128, FILTER_SIZE, FILTER_NUM, dropout_rate, batch_norm)\n",
        "\n",
        "    # 1*1 convolutional layers\n",
        "    conv_final = layers.Conv2D(NUM_CLASSES, kernel_size=(1,1))(up_conv_128)\n",
        "    conv_final = layers.BatchNormalization(axis=3)(conv_final)\n",
        "    conv_final = layers.Activation('softmax')(conv_final)  #Change to softmax for multichannel\n",
        "\n",
        "    # Model integration\n",
        "    model = models.Model(inputs, conv_final, name=\"Attention_UNet\")\n",
        "    return model\n",
        "\n",
        "def Attention_ResUNet(input_shape, NUM_CLASSES=4, dropout_rate=0.0, batch_norm=True):\n",
        "    '''\n",
        "    Rsidual UNet, with attention\n",
        "\n",
        "    '''\n",
        "    # network structure\n",
        "    FILTER_NUM = 64 # number of basic filters for the first layer\n",
        "    FILTER_SIZE = 3 # size of the convolutional filter\n",
        "    UP_SAMP_SIZE = 2 # size of upsampling filters\n",
        "    # input data\n",
        "    # dimension of the image depth\n",
        "    inputs = layers.Input(input_shape, dtype=tf.float32)\n",
        "    axis = 3\n",
        "\n",
        "    # Downsampling layers\n",
        "    # DownRes 1, double residual convolution + pooling\n",
        "    conv_128 = res_conv_block(inputs, FILTER_SIZE, FILTER_NUM, dropout_rate, batch_norm)\n",
        "    pool_64 = layers.MaxPooling2D(pool_size=(2,2))(conv_128)\n",
        "    # DownRes 2\n",
        "    conv_64 = res_conv_block(pool_64, FILTER_SIZE, 2*FILTER_NUM, dropout_rate, batch_norm)\n",
        "    pool_32 = layers.MaxPooling2D(pool_size=(2,2))(conv_64)\n",
        "    # DownRes 3\n",
        "    conv_32 = res_conv_block(pool_32, FILTER_SIZE, 4*FILTER_NUM, dropout_rate, batch_norm)\n",
        "    pool_16 = layers.MaxPooling2D(pool_size=(2,2))(conv_32)\n",
        "    # DownRes 4\n",
        "    conv_16 = res_conv_block(pool_16, FILTER_SIZE, 8*FILTER_NUM, dropout_rate, batch_norm)\n",
        "    pool_8 = layers.MaxPooling2D(pool_size=(2,2))(conv_16)\n",
        "    # DownRes 5, convolution only\n",
        "    conv_8 = res_conv_block(pool_8, FILTER_SIZE, 16*FILTER_NUM, dropout_rate, batch_norm)\n",
        "\n",
        "    # Upsampling layers\n",
        "    # UpRes 6, attention gated concatenation + upsampling + double residual convolution\n",
        "    gating_16 = gating_signal(conv_8, 8*FILTER_NUM, batch_norm)\n",
        "    att_16 = attention_block(conv_16, gating_16, 8*FILTER_NUM)\n",
        "    up_16 = layers.UpSampling2D(size=(UP_SAMP_SIZE, UP_SAMP_SIZE), data_format=\"channels_last\")(conv_8)\n",
        "    up_16 = layers.concatenate([up_16, att_16], axis=axis)\n",
        "    up_conv_16 = res_conv_block(up_16, FILTER_SIZE, 8*FILTER_NUM, dropout_rate, batch_norm)\n",
        "    # UpRes 7\n",
        "    gating_32 = gating_signal(up_conv_16, 4*FILTER_NUM, batch_norm)\n",
        "    att_32 = attention_block(conv_32, gating_32, 4*FILTER_NUM)\n",
        "    up_32 = layers.UpSampling2D(size=(UP_SAMP_SIZE, UP_SAMP_SIZE), data_format=\"channels_last\")(up_conv_16)\n",
        "    up_32 = layers.concatenate([up_32, att_32], axis=axis)\n",
        "    up_conv_32 = res_conv_block(up_32, FILTER_SIZE, 4*FILTER_NUM, dropout_rate, batch_norm)\n",
        "    # UpRes 8\n",
        "    gating_64 = gating_signal(up_conv_32, 2*FILTER_NUM, batch_norm)\n",
        "    att_64 = attention_block(conv_64, gating_64, 2*FILTER_NUM)\n",
        "    up_64 = layers.UpSampling2D(size=(UP_SAMP_SIZE, UP_SAMP_SIZE), data_format=\"channels_last\")(up_conv_32)\n",
        "    up_64 = layers.concatenate([up_64, att_64], axis=axis)\n",
        "    up_conv_64 = res_conv_block(up_64, FILTER_SIZE, 2*FILTER_NUM, dropout_rate, batch_norm)\n",
        "    # UpRes 9\n",
        "    gating_128 = gating_signal(up_conv_64, FILTER_NUM, batch_norm)\n",
        "    att_128 = attention_block(conv_128, gating_128, FILTER_NUM)\n",
        "    up_128 = layers.UpSampling2D(size=(UP_SAMP_SIZE, UP_SAMP_SIZE), data_format=\"channels_last\")(up_conv_64)\n",
        "    up_128 = layers.concatenate([up_128, att_128], axis=axis)\n",
        "    up_conv_128 = res_conv_block(up_128, FILTER_SIZE, FILTER_NUM, dropout_rate, batch_norm)\n",
        "\n",
        "    # 1*1 convolutional layers\n",
        "\n",
        "    conv_final = layers.Conv2D(NUM_CLASSES, kernel_size=(1,1))(up_conv_128)\n",
        "    conv_final = layers.BatchNormalization(axis=axis)(conv_final)\n",
        "    conv_final = layers.Activation('softmax')(conv_final)  #Change to softmax for multichannel\n",
        "\n",
        "    # Model integration\n",
        "    model = models.Model(inputs, conv_final, name=\"AttentionResUNet\")\n",
        "    return model\n",
        "\n",
        "\n",
        "def Attention_SEResUNet(input_shape, NUM_CLASSES=4, dropout_rate=0.0, batch_norm=True):\n",
        "    '''\n",
        "    Rsidual UNet, with attention\n",
        "\n",
        "    '''\n",
        "    # network structure\n",
        "    FILTER_NUM = 64 # number of basic filters for the first layer\n",
        "    FILTER_SIZE = 3 # size of the convolutional filter\n",
        "    UP_SAMP_SIZE = 2 # size of upsampling filters\n",
        "    # input data\n",
        "    # dimension of the image depth\n",
        "    inputs = layers.Input(input_shape, dtype=tf.float32)\n",
        "    axis = 3\n",
        "\n",
        "    # Downsampling layers\n",
        "    # DownRes 1, double residual convolution + pooling\n",
        "    conv_128 = SEres_conv_block(inputs, FILTER_SIZE, FILTER_NUM, dropout_rate, batch_norm)\n",
        "    pool_64 = layers.MaxPooling2D(pool_size=(2,2))(conv_128)\n",
        "    # DownRes 2\n",
        "    conv_64 = SEres_conv_block(pool_64, FILTER_SIZE, 2*FILTER_NUM, dropout_rate, batch_norm)\n",
        "    pool_32 = layers.MaxPooling2D(pool_size=(2,2))(conv_64)\n",
        "    # DownRes 3\n",
        "    conv_32 = SEres_conv_block(pool_32, FILTER_SIZE, 4*FILTER_NUM, dropout_rate, batch_norm)\n",
        "    pool_16 = layers.MaxPooling2D(pool_size=(2,2))(conv_32)\n",
        "    # DownRes 4\n",
        "    conv_16 = SEres_conv_block(pool_16, FILTER_SIZE, 8*FILTER_NUM, dropout_rate, batch_norm)\n",
        "    pool_8 = layers.MaxPooling2D(pool_size=(2,2))(conv_16)\n",
        "    # DownRes 5, convolution only\n",
        "    conv_8 = SEres_conv_block(pool_8, FILTER_SIZE, 16*FILTER_NUM, dropout_rate, batch_norm)\n",
        "\n",
        "    # Upsampling layers\n",
        "    # UpRes 6, attention gated concatenation + upsampling + double residual convolution\n",
        "    gating_16 = gating_signal(conv_8, 8*FILTER_NUM, batch_norm)\n",
        "    att_16 = attention_block(conv_16, gating_16, 8*FILTER_NUM)\n",
        "    up_16 = layers.UpSampling2D(size=(UP_SAMP_SIZE, UP_SAMP_SIZE), data_format=\"channels_last\")(conv_8)\n",
        "    up_16 = layers.concatenate([up_16, att_16], axis=axis)\n",
        "    up_conv_16 = SEres_conv_block(up_16, FILTER_SIZE, 8*FILTER_NUM, dropout_rate, batch_norm)\n",
        "    # UpRes 7\n",
        "    gating_32 = gating_signal(up_conv_16, 4*FILTER_NUM, batch_norm)\n",
        "    att_32 = attention_block(conv_32, gating_32, 4*FILTER_NUM)\n",
        "    up_32 = layers.UpSampling2D(size=(UP_SAMP_SIZE, UP_SAMP_SIZE), data_format=\"channels_last\")(up_conv_16)\n",
        "    up_32 = layers.concatenate([up_32, att_32], axis=axis)\n",
        "    up_conv_32 = SEres_conv_block(up_32, FILTER_SIZE, 4*FILTER_NUM, dropout_rate, batch_norm)\n",
        "    # UpRes 8\n",
        "    gating_64 = gating_signal(up_conv_32, 2*FILTER_NUM, batch_norm)\n",
        "    att_64 = attention_block(conv_64, gating_64, 2*FILTER_NUM)\n",
        "    up_64 = layers.UpSampling2D(size=(UP_SAMP_SIZE, UP_SAMP_SIZE), data_format=\"channels_last\")(up_conv_32)\n",
        "    up_64 = layers.concatenate([up_64, att_64], axis=axis)\n",
        "    up_conv_64 = SEres_conv_block(up_64, FILTER_SIZE, 2*FILTER_NUM, dropout_rate, batch_norm)\n",
        "    # UpRes 9\n",
        "    gating_128 = gating_signal(up_conv_64, FILTER_NUM, batch_norm)\n",
        "    att_128 = attention_block(conv_128, gating_128, FILTER_NUM)\n",
        "    up_128 = layers.UpSampling2D(size=(UP_SAMP_SIZE, UP_SAMP_SIZE), data_format=\"channels_last\")(up_conv_64)\n",
        "    up_128 = layers.concatenate([up_128, att_128], axis=axis)\n",
        "    up_conv_128 = SEres_conv_block(up_128, FILTER_SIZE, FILTER_NUM, dropout_rate, batch_norm)\n",
        "\n",
        "    # 1*1 convolutional layers\n",
        "\n",
        "    conv_final = layers.Conv2D(NUM_CLASSES, kernel_size=(1,1))(up_conv_128)\n",
        "    conv_final = layers.BatchNormalization(axis=axis)(conv_final)\n",
        "    conv_final = layers.Activation('softmax')(conv_final)  #Change to softmax for multichannel\n",
        "\n",
        "    # Model integration\n",
        "    model = models.Model(inputs, conv_final, name=\"AttentionResUNet\")\n",
        "    return model\n",
        "\n",
        "input_shape = (208,208,1)\n",
        "#UNet(input_shape, NUM_CLASSES=4, dropout_rate=0.0, batch_norm=True)"
      ]
    },
    {
      "cell_type": "code",
      "execution_count": null,
      "metadata": {
        "colab": {
          "base_uri": "https://localhost:8080/"
        },
        "id": "97AN9Iyfnkat",
        "outputId": "ae13aa72-6f1f-431e-b5e2-e195470dd76c"
      },
      "outputs": [
        {
          "output_type": "stream",
          "name": "stdout",
          "text": [
            "Model: \"UNet\"\n",
            "__________________________________________________________________________________________________\n",
            " Layer (type)                Output Shape                 Param #   Connected to                  \n",
            "==================================================================================================\n",
            " input_1 (InputLayer)        [(None, 208, 208, 1)]        0         []                            \n",
            "                                                                                                  \n",
            " conv2d (Conv2D)             (None, 208, 208, 64)         640       ['input_1[0][0]']             \n",
            "                                                                                                  \n",
            " batch_normalization (Batch  (None, 208, 208, 64)         256       ['conv2d[0][0]']              \n",
            " Normalization)                                                                                   \n",
            "                                                                                                  \n",
            " activation (Activation)     (None, 208, 208, 64)         0         ['batch_normalization[0][0]'] \n",
            "                                                                                                  \n",
            " conv2d_1 (Conv2D)           (None, 208, 208, 64)         36928     ['activation[0][0]']          \n",
            "                                                                                                  \n",
            " batch_normalization_1 (Bat  (None, 208, 208, 64)         256       ['conv2d_1[0][0]']            \n",
            " chNormalization)                                                                                 \n",
            "                                                                                                  \n",
            " activation_1 (Activation)   (None, 208, 208, 64)         0         ['batch_normalization_1[0][0]'\n",
            "                                                                    ]                             \n",
            "                                                                                                  \n",
            " max_pooling2d (MaxPooling2  (None, 104, 104, 64)         0         ['activation_1[0][0]']        \n",
            " D)                                                                                               \n",
            "                                                                                                  \n",
            " conv2d_2 (Conv2D)           (None, 104, 104, 128)        73856     ['max_pooling2d[0][0]']       \n",
            "                                                                                                  \n",
            " batch_normalization_2 (Bat  (None, 104, 104, 128)        512       ['conv2d_2[0][0]']            \n",
            " chNormalization)                                                                                 \n",
            "                                                                                                  \n",
            " activation_2 (Activation)   (None, 104, 104, 128)        0         ['batch_normalization_2[0][0]'\n",
            "                                                                    ]                             \n",
            "                                                                                                  \n",
            " conv2d_3 (Conv2D)           (None, 104, 104, 128)        147584    ['activation_2[0][0]']        \n",
            "                                                                                                  \n",
            " batch_normalization_3 (Bat  (None, 104, 104, 128)        512       ['conv2d_3[0][0]']            \n",
            " chNormalization)                                                                                 \n",
            "                                                                                                  \n",
            " activation_3 (Activation)   (None, 104, 104, 128)        0         ['batch_normalization_3[0][0]'\n",
            "                                                                    ]                             \n",
            "                                                                                                  \n",
            " max_pooling2d_1 (MaxPoolin  (None, 52, 52, 128)          0         ['activation_3[0][0]']        \n",
            " g2D)                                                                                             \n",
            "                                                                                                  \n",
            " conv2d_4 (Conv2D)           (None, 52, 52, 256)          295168    ['max_pooling2d_1[0][0]']     \n",
            "                                                                                                  \n",
            " batch_normalization_4 (Bat  (None, 52, 52, 256)          1024      ['conv2d_4[0][0]']            \n",
            " chNormalization)                                                                                 \n",
            "                                                                                                  \n",
            " activation_4 (Activation)   (None, 52, 52, 256)          0         ['batch_normalization_4[0][0]'\n",
            "                                                                    ]                             \n",
            "                                                                                                  \n",
            " conv2d_5 (Conv2D)           (None, 52, 52, 256)          590080    ['activation_4[0][0]']        \n",
            "                                                                                                  \n",
            " batch_normalization_5 (Bat  (None, 52, 52, 256)          1024      ['conv2d_5[0][0]']            \n",
            " chNormalization)                                                                                 \n",
            "                                                                                                  \n",
            " activation_5 (Activation)   (None, 52, 52, 256)          0         ['batch_normalization_5[0][0]'\n",
            "                                                                    ]                             \n",
            "                                                                                                  \n",
            " max_pooling2d_2 (MaxPoolin  (None, 26, 26, 256)          0         ['activation_5[0][0]']        \n",
            " g2D)                                                                                             \n",
            "                                                                                                  \n",
            " conv2d_6 (Conv2D)           (None, 26, 26, 512)          1180160   ['max_pooling2d_2[0][0]']     \n",
            "                                                                                                  \n",
            " batch_normalization_6 (Bat  (None, 26, 26, 512)          2048      ['conv2d_6[0][0]']            \n",
            " chNormalization)                                                                                 \n",
            "                                                                                                  \n",
            " activation_6 (Activation)   (None, 26, 26, 512)          0         ['batch_normalization_6[0][0]'\n",
            "                                                                    ]                             \n",
            "                                                                                                  \n",
            " conv2d_7 (Conv2D)           (None, 26, 26, 512)          2359808   ['activation_6[0][0]']        \n",
            "                                                                                                  \n",
            " batch_normalization_7 (Bat  (None, 26, 26, 512)          2048      ['conv2d_7[0][0]']            \n",
            " chNormalization)                                                                                 \n",
            "                                                                                                  \n",
            " activation_7 (Activation)   (None, 26, 26, 512)          0         ['batch_normalization_7[0][0]'\n",
            "                                                                    ]                             \n",
            "                                                                                                  \n",
            " max_pooling2d_3 (MaxPoolin  (None, 13, 13, 512)          0         ['activation_7[0][0]']        \n",
            " g2D)                                                                                             \n",
            "                                                                                                  \n",
            " conv2d_8 (Conv2D)           (None, 13, 13, 1024)         4719616   ['max_pooling2d_3[0][0]']     \n",
            "                                                                                                  \n",
            " batch_normalization_8 (Bat  (None, 13, 13, 1024)         4096      ['conv2d_8[0][0]']            \n",
            " chNormalization)                                                                                 \n",
            "                                                                                                  \n",
            " activation_8 (Activation)   (None, 13, 13, 1024)         0         ['batch_normalization_8[0][0]'\n",
            "                                                                    ]                             \n",
            "                                                                                                  \n",
            " conv2d_9 (Conv2D)           (None, 13, 13, 1024)         9438208   ['activation_8[0][0]']        \n",
            "                                                                                                  \n",
            " batch_normalization_9 (Bat  (None, 13, 13, 1024)         4096      ['conv2d_9[0][0]']            \n",
            " chNormalization)                                                                                 \n",
            "                                                                                                  \n",
            " activation_9 (Activation)   (None, 13, 13, 1024)         0         ['batch_normalization_9[0][0]'\n",
            "                                                                    ]                             \n",
            "                                                                                                  \n",
            " up_sampling2d (UpSampling2  (None, 26, 26, 1024)         0         ['activation_9[0][0]']        \n",
            " D)                                                                                               \n",
            "                                                                                                  \n",
            " concatenate (Concatenate)   (None, 26, 26, 1536)         0         ['up_sampling2d[0][0]',       \n",
            "                                                                     'activation_7[0][0]']        \n",
            "                                                                                                  \n",
            " conv2d_10 (Conv2D)          (None, 26, 26, 512)          7078400   ['concatenate[0][0]']         \n",
            "                                                                                                  \n",
            " batch_normalization_10 (Ba  (None, 26, 26, 512)          2048      ['conv2d_10[0][0]']           \n",
            " tchNormalization)                                                                                \n",
            "                                                                                                  \n",
            " activation_10 (Activation)  (None, 26, 26, 512)          0         ['batch_normalization_10[0][0]\n",
            "                                                                    ']                            \n",
            "                                                                                                  \n",
            " conv2d_11 (Conv2D)          (None, 26, 26, 512)          2359808   ['activation_10[0][0]']       \n",
            "                                                                                                  \n",
            " batch_normalization_11 (Ba  (None, 26, 26, 512)          2048      ['conv2d_11[0][0]']           \n",
            " tchNormalization)                                                                                \n",
            "                                                                                                  \n",
            " activation_11 (Activation)  (None, 26, 26, 512)          0         ['batch_normalization_11[0][0]\n",
            "                                                                    ']                            \n",
            "                                                                                                  \n",
            " up_sampling2d_1 (UpSamplin  (None, 52, 52, 512)          0         ['activation_11[0][0]']       \n",
            " g2D)                                                                                             \n",
            "                                                                                                  \n",
            " concatenate_1 (Concatenate  (None, 52, 52, 768)          0         ['up_sampling2d_1[0][0]',     \n",
            " )                                                                   'activation_5[0][0]']        \n",
            "                                                                                                  \n",
            " conv2d_12 (Conv2D)          (None, 52, 52, 256)          1769728   ['concatenate_1[0][0]']       \n",
            "                                                                                                  \n",
            " batch_normalization_12 (Ba  (None, 52, 52, 256)          1024      ['conv2d_12[0][0]']           \n",
            " tchNormalization)                                                                                \n",
            "                                                                                                  \n",
            " activation_12 (Activation)  (None, 52, 52, 256)          0         ['batch_normalization_12[0][0]\n",
            "                                                                    ']                            \n",
            "                                                                                                  \n",
            " conv2d_13 (Conv2D)          (None, 52, 52, 256)          590080    ['activation_12[0][0]']       \n",
            "                                                                                                  \n",
            " batch_normalization_13 (Ba  (None, 52, 52, 256)          1024      ['conv2d_13[0][0]']           \n",
            " tchNormalization)                                                                                \n",
            "                                                                                                  \n",
            " activation_13 (Activation)  (None, 52, 52, 256)          0         ['batch_normalization_13[0][0]\n",
            "                                                                    ']                            \n",
            "                                                                                                  \n",
            " up_sampling2d_2 (UpSamplin  (None, 104, 104, 256)        0         ['activation_13[0][0]']       \n",
            " g2D)                                                                                             \n",
            "                                                                                                  \n",
            " concatenate_2 (Concatenate  (None, 104, 104, 384)        0         ['up_sampling2d_2[0][0]',     \n",
            " )                                                                   'activation_3[0][0]']        \n",
            "                                                                                                  \n",
            " conv2d_14 (Conv2D)          (None, 104, 104, 128)        442496    ['concatenate_2[0][0]']       \n",
            "                                                                                                  \n",
            " batch_normalization_14 (Ba  (None, 104, 104, 128)        512       ['conv2d_14[0][0]']           \n",
            " tchNormalization)                                                                                \n",
            "                                                                                                  \n",
            " activation_14 (Activation)  (None, 104, 104, 128)        0         ['batch_normalization_14[0][0]\n",
            "                                                                    ']                            \n",
            "                                                                                                  \n",
            " conv2d_15 (Conv2D)          (None, 104, 104, 128)        147584    ['activation_14[0][0]']       \n",
            "                                                                                                  \n",
            " batch_normalization_15 (Ba  (None, 104, 104, 128)        512       ['conv2d_15[0][0]']           \n",
            " tchNormalization)                                                                                \n",
            "                                                                                                  \n",
            " activation_15 (Activation)  (None, 104, 104, 128)        0         ['batch_normalization_15[0][0]\n",
            "                                                                    ']                            \n",
            "                                                                                                  \n",
            " up_sampling2d_3 (UpSamplin  (None, 208, 208, 128)        0         ['activation_15[0][0]']       \n",
            " g2D)                                                                                             \n",
            "                                                                                                  \n",
            " concatenate_3 (Concatenate  (None, 208, 208, 192)        0         ['up_sampling2d_3[0][0]',     \n",
            " )                                                                   'activation_1[0][0]']        \n",
            "                                                                                                  \n",
            " conv2d_16 (Conv2D)          (None, 208, 208, 64)         110656    ['concatenate_3[0][0]']       \n",
            "                                                                                                  \n",
            " batch_normalization_16 (Ba  (None, 208, 208, 64)         256       ['conv2d_16[0][0]']           \n",
            " tchNormalization)                                                                                \n",
            "                                                                                                  \n",
            " activation_16 (Activation)  (None, 208, 208, 64)         0         ['batch_normalization_16[0][0]\n",
            "                                                                    ']                            \n",
            "                                                                                                  \n",
            " conv2d_17 (Conv2D)          (None, 208, 208, 64)         36928     ['activation_16[0][0]']       \n",
            "                                                                                                  \n",
            " batch_normalization_17 (Ba  (None, 208, 208, 64)         256       ['conv2d_17[0][0]']           \n",
            " tchNormalization)                                                                                \n",
            "                                                                                                  \n",
            " activation_17 (Activation)  (None, 208, 208, 64)         0         ['batch_normalization_17[0][0]\n",
            "                                                                    ']                            \n",
            "                                                                                                  \n",
            " conv2d_18 (Conv2D)          (None, 208, 208, 4)          260       ['activation_17[0][0]']       \n",
            "                                                                                                  \n",
            " batch_normalization_18 (Ba  (None, 208, 208, 4)          16        ['conv2d_18[0][0]']           \n",
            " tchNormalization)                                                                                \n",
            "                                                                                                  \n",
            " activation_18 (Activation)  (None, 208, 208, 4)          0         ['batch_normalization_18[0][0]\n",
            "                                                                    ']                            \n",
            "                                                                                                  \n",
            "==================================================================================================\n",
            "Total params: 31401556 (119.79 MB)\n",
            "Trainable params: 31389772 (119.74 MB)\n",
            "Non-trainable params: 11784 (46.03 KB)\n",
            "__________________________________________________________________________________________________\n",
            "None\n"
          ]
        },
        {
          "output_type": "execute_result",
          "data": {
            "text/plain": [
              "<keras.src.engine.functional.Functional at 0x7b5dbcbe5000>"
            ]
          },
          "metadata": {},
          "execution_count": 30
        }
      ],
      "source": [
        "# -*- coding: utf-8 -*-\n",
        "\"\"\"\n",
        "Created on Sun Oct 24 16:52:36 2021\n",
        "\n",
        "@author: SanjeetXlar\n",
        "\"\"\"\n",
        "\n",
        "\n",
        "import tensorflow as tf\n",
        "from tensorflow.keras import models, layers, regularizers\n",
        "from tensorflow.keras import backend as K\n",
        "\n",
        "\n",
        "\n",
        "\n",
        "'''\n",
        "A few useful metrics and losses\n",
        "'''\n",
        "\n",
        "def dice_coef(y_true, y_pred):\n",
        "    y_true_f = K.flatten(y_true)\n",
        "    y_pred_f = K.flatten(y_pred)\n",
        "    intersection = K.sum(y_true_f * y_pred_f)\n",
        "    return (2.0 * intersection + 1.0) / (K.sum(y_true_f) + K.sum(y_pred_f) + 1.0)\n",
        "\n",
        "\n",
        "def jacard_coef(y_true, y_pred):\n",
        "    y_true_f = K.flatten(y_true)\n",
        "    y_pred_f = K.flatten(y_pred)\n",
        "    intersection = K.sum(y_true_f * y_pred_f)\n",
        "    return (intersection + 1.0) / (K.sum(y_true_f) + K.sum(y_pred_f) - intersection + 1.0)\n",
        "\n",
        "\n",
        "def jacard_coef_loss(y_true, y_pred):\n",
        "    return -jacard_coef(y_true, y_pred)\n",
        "\n",
        "\n",
        "def dice_coef_loss(y_true, y_pred):\n",
        "    return -dice_coef(y_true, y_pred)\n",
        "\n",
        "\n",
        "##############################################################\n",
        "'''\n",
        "Useful blocks to build Unet\n",
        "conv - BN - Activation - conv - BN - Activation - Dropout (if enabled)\n",
        "'''\n",
        "\n",
        "\n",
        "def conv_block(x, filter_size, size, dropout, batch_norm=False):\n",
        "\n",
        "    conv = layers.Conv2D(size, (filter_size, filter_size), padding=\"same\")(x)\n",
        "    if batch_norm is True:\n",
        "        conv = layers.BatchNormalization(axis=3)(conv)\n",
        "    conv = layers.Activation(\"relu\")(conv)\n",
        "\n",
        "    conv = layers.Conv2D(size, (filter_size, filter_size), padding=\"same\")(conv)\n",
        "    if batch_norm is True:\n",
        "        conv = layers.BatchNormalization(axis=3)(conv)\n",
        "    conv = layers.Activation(\"relu\")(conv)\n",
        "\n",
        "    if dropout > 0:\n",
        "        conv = layers.Dropout(dropout)(conv)\n",
        "\n",
        "    return conv\n",
        "\n",
        "\n",
        "def repeat_elem(tensor, rep):\n",
        "    # lambda function to repeat Repeats the elements of a tensor along an axis\n",
        "    #by a factor of rep.\n",
        "    # If tensor has shape (None, 256,256,3), lambda will return a tensor of shape\n",
        "    #(None, 256,256,6), if specified axis=3 and rep=2.\n",
        "\n",
        "     return layers.Lambda(lambda x, repnum: K.repeat_elements(x, repnum, axis=3),\n",
        "                          arguments={'repnum': rep})(tensor)\n",
        "\n",
        "\n",
        "def res_conv_block(x, filter_size, size, dropout, batch_norm=False):\n",
        "    '''\n",
        "    Residual convolutional layer.\n",
        "    Two variants....\n",
        "    Either put activation function before the addition with shortcut\n",
        "    or after the addition (which would be as proposed in the original resNet).\n",
        "\n",
        "    1. conv - BN - Activation - conv - BN - Activation\n",
        "                                          - shortcut  - BN - shortcut+BN\n",
        "\n",
        "    2. conv - BN - Activation - conv - BN\n",
        "                                     - shortcut  - BN - shortcut+BN - Activation\n",
        "\n",
        "    Check fig 4 in https://arxiv.org/ftp/arxiv/papers/1802/1802.06955.pdf\n",
        "    '''\n",
        "\n",
        "    conv = layers.Conv2D(size, (filter_size, filter_size), padding='same')(x)\n",
        "    if batch_norm is True:\n",
        "        conv = layers.BatchNormalization(axis=3)(conv)\n",
        "    conv = layers.Activation('relu')(conv)\n",
        "\n",
        "    conv = layers.Conv2D(size, (filter_size, filter_size), padding='same')(conv)\n",
        "    if batch_norm is True:\n",
        "        conv = layers.BatchNormalization(axis=3)(conv)\n",
        "    #conv = layers.Activation('relu')(conv)    #Activation before addition with shortcut\n",
        "    if dropout > 0:\n",
        "        conv = layers.Dropout(dropout)(conv)\n",
        "\n",
        "    shortcut = layers.Conv2D(size, kernel_size=(1, 1), padding='same')(x)\n",
        "    if batch_norm is True:\n",
        "        shortcut = layers.BatchNormalization(axis=3)(shortcut)\n",
        "\n",
        "    res_path = layers.add([shortcut, conv])\n",
        "    res_path = layers.Activation('relu')(res_path)    #Activation after addition with shortcut (Original residual block)\n",
        "    return res_path\n",
        "\n",
        "def gating_signal(input, out_size, batch_norm=False):\n",
        "    \"\"\"\n",
        "    resize the down layer feature map into the same dimension as the up layer feature map\n",
        "    using 1x1 conv\n",
        "    :return: the gating feature map with the same dimension of the up layer feature map\n",
        "    \"\"\"\n",
        "    x = layers.Conv2D(out_size, (1, 1), padding='same')(input)\n",
        "    if batch_norm:\n",
        "        x = layers.BatchNormalization()(x)\n",
        "    x = layers.Activation('relu')(x)\n",
        "    return x\n",
        "\n",
        "def attention_block(x, gating, inter_shape):\n",
        "    shape_x = K.int_shape(x)\n",
        "    shape_g = K.int_shape(gating)\n",
        "\n",
        "# Getting the x signal to the same shape as the gating signal\n",
        "    theta_x = layers.Conv2D(inter_shape, (2, 2), strides=(2, 2), padding='same')(x)  # 16\n",
        "    shape_theta_x = K.int_shape(theta_x)\n",
        "\n",
        "# Getting the gating signal to the same number of filters as the inter_shape\n",
        "    phi_g = layers.Conv2D(inter_shape, (1, 1), padding='same')(gating)\n",
        "    upsample_g = layers.Conv2DTranspose(inter_shape, (3, 3),\n",
        "                                 strides=(shape_theta_x[1] // shape_g[1], shape_theta_x[2] // shape_g[2]),\n",
        "                                 padding='same')(phi_g)  # 16\n",
        "\n",
        "    concat_xg = layers.add([upsample_g, theta_x])\n",
        "    act_xg = layers.Activation('relu')(concat_xg)\n",
        "    psi = layers.Conv2D(1, (1, 1), padding='same')(act_xg)\n",
        "    sigmoid_xg = layers.Activation('sigmoid')(psi)\n",
        "    shape_sigmoid = K.int_shape(sigmoid_xg)\n",
        "    upsample_psi = layers.UpSampling2D(size=(shape_x[1] // shape_sigmoid[1], shape_x[2] // shape_sigmoid[2]))(sigmoid_xg)  # 32\n",
        "\n",
        "    upsample_psi = repeat_elem(upsample_psi, shape_x[3])\n",
        "\n",
        "    y = layers.multiply([upsample_psi, x])\n",
        "\n",
        "    result = layers.Conv2D(shape_x[3], (1, 1), padding='same')(y)\n",
        "    result_bn = layers.BatchNormalization()(result)\n",
        "    return result_bn\n",
        "\n",
        "\n",
        "\n",
        "\n",
        "def UNet(input_shape, NUM_CLASSES=4, dropout_rate=0.0, batch_norm=True):\n",
        "    '''\n",
        "    UNet,\n",
        "\n",
        "    '''\n",
        "    # network structure\n",
        "    FILTER_NUM = 64 # number of filters for the first layer\n",
        "    FILTER_SIZE = 3 # size of the convolutional filter\n",
        "    UP_SAMP_SIZE = 2 # size of upsampling filters\n",
        "\n",
        "\n",
        "    inputs = layers.Input(input_shape, dtype=tf.float32)\n",
        "\n",
        "    # Downsampling layers\n",
        "    # DownRes 1, convolution + pooling\n",
        "    conv_128 = conv_block(inputs, FILTER_SIZE, FILTER_NUM, dropout_rate, batch_norm)\n",
        "    pool_64 = layers.MaxPooling2D(pool_size=(2,2))(conv_128)\n",
        "    # DownRes 2\n",
        "    conv_64 = conv_block(pool_64, FILTER_SIZE, 2*FILTER_NUM, dropout_rate, batch_norm)\n",
        "    pool_32 = layers.MaxPooling2D(pool_size=(2,2))(conv_64)\n",
        "    # DownRes 3\n",
        "    conv_32 = conv_block(pool_32, FILTER_SIZE, 4*FILTER_NUM, dropout_rate, batch_norm)\n",
        "    pool_16 = layers.MaxPooling2D(pool_size=(2,2))(conv_32)\n",
        "    # DownRes 4\n",
        "    conv_16 = conv_block(pool_16, FILTER_SIZE, 8*FILTER_NUM, dropout_rate, batch_norm)\n",
        "    pool_8 = layers.MaxPooling2D(pool_size=(2,2))(conv_16)\n",
        "    # DownRes 5, convolution only\n",
        "    conv_8 = conv_block(pool_8, FILTER_SIZE, 16*FILTER_NUM, dropout_rate, batch_norm)\n",
        "\n",
        "    # Upsampling layers\n",
        "\n",
        "    up_16 = layers.UpSampling2D(size=(UP_SAMP_SIZE, UP_SAMP_SIZE), data_format=\"channels_last\")(conv_8)\n",
        "    up_16 = layers.concatenate([up_16, conv_16], axis=3)\n",
        "    up_conv_16 = conv_block(up_16, FILTER_SIZE, 8*FILTER_NUM, dropout_rate, batch_norm)\n",
        "    # UpRes 7\n",
        "\n",
        "    up_32 = layers.UpSampling2D(size=(UP_SAMP_SIZE, UP_SAMP_SIZE), data_format=\"channels_last\")(up_conv_16)\n",
        "    up_32 = layers.concatenate([up_32, conv_32], axis=3)\n",
        "    up_conv_32 = conv_block(up_32, FILTER_SIZE, 4*FILTER_NUM, dropout_rate, batch_norm)\n",
        "    # UpRes 8\n",
        "\n",
        "    up_64 = layers.UpSampling2D(size=(UP_SAMP_SIZE, UP_SAMP_SIZE), data_format=\"channels_last\")(up_conv_32)\n",
        "    up_64 = layers.concatenate([up_64, conv_64], axis=3)\n",
        "    up_conv_64 = conv_block(up_64, FILTER_SIZE, 2*FILTER_NUM, dropout_rate, batch_norm)\n",
        "    # UpRes 9\n",
        "\n",
        "    up_128 = layers.UpSampling2D(size=(UP_SAMP_SIZE, UP_SAMP_SIZE), data_format=\"channels_last\")(up_conv_64)\n",
        "    up_128 = layers.concatenate([up_128, conv_128], axis=3)\n",
        "    up_conv_128 = conv_block(up_128, FILTER_SIZE, FILTER_NUM, dropout_rate, batch_norm)\n",
        "\n",
        "    # 1*1 convolutional layers\n",
        "\n",
        "    conv_final = layers.Conv2D(NUM_CLASSES, kernel_size=(1,1))(up_conv_128)\n",
        "    conv_final = layers.BatchNormalization(axis=3)(conv_final)\n",
        "    conv_final = layers.Activation('softmax')(conv_final)  #Change to softmax for multichannel\n",
        "\n",
        "    # Model\n",
        "    model = models.Model(inputs, conv_final, name=\"UNet\")\n",
        "    print(model.summary())\n",
        "    return model\n",
        "\n",
        "def Attention_UNet(input_shape, NUM_CLASSES=4, dropout_rate=0.0, batch_norm=True):\n",
        "    '''\n",
        "    Attention UNet,\n",
        "\n",
        "    '''\n",
        "    # network structure\n",
        "    FILTER_NUM = 64 # number of basic filters for the first layer\n",
        "    FILTER_SIZE = 3 # size of the convolutional filter\n",
        "    UP_SAMP_SIZE = 2 # size of upsampling filters\n",
        "\n",
        "    inputs = layers.Input(input_shape, dtype=tf.float32)\n",
        "\n",
        "    # Downsampling layers\n",
        "    # DownRes 1, convolution + pooling\n",
        "    conv_128 = conv_block(inputs, FILTER_SIZE, FILTER_NUM, dropout_rate, batch_norm)\n",
        "    pool_64 = layers.MaxPooling2D(pool_size=(2,2))(conv_128)\n",
        "    # DownRes 2\n",
        "    conv_64 = conv_block(pool_64, FILTER_SIZE, 2*FILTER_NUM, dropout_rate, batch_norm)\n",
        "    pool_32 = layers.MaxPooling2D(pool_size=(2,2))(conv_64)\n",
        "    # DownRes 3\n",
        "    conv_32 = conv_block(pool_32, FILTER_SIZE, 4*FILTER_NUM, dropout_rate, batch_norm)\n",
        "    pool_16 = layers.MaxPooling2D(pool_size=(2,2))(conv_32)\n",
        "    # DownRes 4\n",
        "    conv_16 = conv_block(pool_16, FILTER_SIZE, 8*FILTER_NUM, dropout_rate, batch_norm)\n",
        "    pool_8 = layers.MaxPooling2D(pool_size=(2,2))(conv_16)\n",
        "    # DownRes 5, convolution only\n",
        "    conv_8 = conv_block(pool_8, FILTER_SIZE, 16*FILTER_NUM, dropout_rate, batch_norm)\n",
        "\n",
        "    # Upsampling layers\n",
        "    # UpRes 6, attention gated concatenation + upsampling + double residual convolution\n",
        "    gating_16 = gating_signal(conv_8, 8*FILTER_NUM, batch_norm)\n",
        "    att_16 = attention_block(conv_16, gating_16, 8*FILTER_NUM)\n",
        "    up_16 = layers.UpSampling2D(size=(UP_SAMP_SIZE, UP_SAMP_SIZE), data_format=\"channels_last\")(conv_8)\n",
        "    up_16 = layers.concatenate([up_16, att_16], axis=3)\n",
        "    up_conv_16 = conv_block(up_16, FILTER_SIZE, 8*FILTER_NUM, dropout_rate, batch_norm)\n",
        "    # UpRes 7\n",
        "    gating_32 = gating_signal(up_conv_16, 4*FILTER_NUM, batch_norm)\n",
        "    att_32 = attention_block(conv_32, gating_32, 4*FILTER_NUM)\n",
        "    up_32 = layers.UpSampling2D(size=(UP_SAMP_SIZE, UP_SAMP_SIZE), data_format=\"channels_last\")(up_conv_16)\n",
        "    up_32 = layers.concatenate([up_32, att_32], axis=3)\n",
        "    up_conv_32 = conv_block(up_32, FILTER_SIZE, 4*FILTER_NUM, dropout_rate, batch_norm)\n",
        "    # UpRes 8\n",
        "    gating_64 = gating_signal(up_conv_32, 2*FILTER_NUM, batch_norm)\n",
        "    att_64 = attention_block(conv_64, gating_64, 2*FILTER_NUM)\n",
        "    up_64 = layers.UpSampling2D(size=(UP_SAMP_SIZE, UP_SAMP_SIZE), data_format=\"channels_last\")(up_conv_32)\n",
        "    up_64 = layers.concatenate([up_64, att_64], axis=3)\n",
        "    up_conv_64 = conv_block(up_64, FILTER_SIZE, 2*FILTER_NUM, dropout_rate, batch_norm)\n",
        "    # UpRes 9\n",
        "    gating_128 = gating_signal(up_conv_64, FILTER_NUM, batch_norm)\n",
        "    att_128 = attention_block(conv_128, gating_128, FILTER_NUM)\n",
        "    up_128 = layers.UpSampling2D(size=(UP_SAMP_SIZE, UP_SAMP_SIZE), data_format=\"channels_last\")(up_conv_64)\n",
        "    up_128 = layers.concatenate([up_128, att_128], axis=3)\n",
        "    up_conv_128 = conv_block(up_128, FILTER_SIZE, FILTER_NUM, dropout_rate, batch_norm)\n",
        "\n",
        "    # 1*1 convolutional layers\n",
        "    conv_final = layers.Conv2D(NUM_CLASSES, kernel_size=(1,1))(up_conv_128)\n",
        "    conv_final = layers.BatchNormalization(axis=3)(conv_final)\n",
        "    conv_final = layers.Activation('softmax')(conv_final)  #Change to softmax for multichannel\n",
        "\n",
        "    # Model integration\n",
        "    model = models.Model(inputs, conv_final, name=\"Attention_UNet\")\n",
        "    return model\n",
        "\n",
        "def Attention_ResUNet(input_shape, NUM_CLASSES=4, dropout_rate=0.0, batch_norm=True):\n",
        "    '''\n",
        "    Rsidual UNet, with attention\n",
        "\n",
        "    '''\n",
        "    # network structure\n",
        "    FILTER_NUM = 64 # number of basic filters for the first layer\n",
        "    FILTER_SIZE = 3 # size of the convolutional filter\n",
        "    UP_SAMP_SIZE = 2 # size of upsampling filters\n",
        "    # input data\n",
        "    # dimension of the image depth\n",
        "    inputs = layers.Input(input_shape, dtype=tf.float32)\n",
        "    axis = 3\n",
        "\n",
        "    # Downsampling layers\n",
        "    # DownRes 1, double residual convolution + pooling\n",
        "    conv_128 = res_conv_block(inputs, FILTER_SIZE, FILTER_NUM, dropout_rate, batch_norm)\n",
        "    pool_64 = layers.MaxPooling2D(pool_size=(2,2))(conv_128)\n",
        "    # DownRes 2\n",
        "    conv_64 = res_conv_block(pool_64, FILTER_SIZE, 2*FILTER_NUM, dropout_rate, batch_norm)\n",
        "    pool_32 = layers.MaxPooling2D(pool_size=(2,2))(conv_64)\n",
        "    # DownRes 3\n",
        "    conv_32 = res_conv_block(pool_32, FILTER_SIZE, 4*FILTER_NUM, dropout_rate, batch_norm)\n",
        "    pool_16 = layers.MaxPooling2D(pool_size=(2,2))(conv_32)\n",
        "    # DownRes 4\n",
        "    conv_16 = res_conv_block(pool_16, FILTER_SIZE, 8*FILTER_NUM, dropout_rate, batch_norm)\n",
        "    pool_8 = layers.MaxPooling2D(pool_size=(2,2))(conv_16)\n",
        "    # DownRes 5, convolution only\n",
        "    conv_8 = res_conv_block(pool_8, FILTER_SIZE, 16*FILTER_NUM, dropout_rate, batch_norm)\n",
        "\n",
        "    # Upsampling layers\n",
        "    # UpRes 6, attention gated concatenation + upsampling + double residual convolution\n",
        "    gating_16 = gating_signal(conv_8, 8*FILTER_NUM, batch_norm)\n",
        "    att_16 = attention_block(conv_16, gating_16, 8*FILTER_NUM)\n",
        "    up_16 = layers.UpSampling2D(size=(UP_SAMP_SIZE, UP_SAMP_SIZE), data_format=\"channels_last\")(conv_8)\n",
        "    up_16 = layers.concatenate([up_16, att_16], axis=axis)\n",
        "    up_conv_16 = res_conv_block(up_16, FILTER_SIZE, 8*FILTER_NUM, dropout_rate, batch_norm)\n",
        "    # UpRes 7\n",
        "    gating_32 = gating_signal(up_conv_16, 4*FILTER_NUM, batch_norm)\n",
        "    att_32 = attention_block(conv_32, gating_32, 4*FILTER_NUM)\n",
        "    up_32 = layers.UpSampling2D(size=(UP_SAMP_SIZE, UP_SAMP_SIZE), data_format=\"channels_last\")(up_conv_16)\n",
        "    up_32 = layers.concatenate([up_32, att_32], axis=axis)\n",
        "    up_conv_32 = res_conv_block(up_32, FILTER_SIZE, 4*FILTER_NUM, dropout_rate, batch_norm)\n",
        "    # UpRes 8\n",
        "    gating_64 = gating_signal(up_conv_32, 2*FILTER_NUM, batch_norm)\n",
        "    att_64 = attention_block(conv_64, gating_64, 2*FILTER_NUM)\n",
        "    up_64 = layers.UpSampling2D(size=(UP_SAMP_SIZE, UP_SAMP_SIZE), data_format=\"channels_last\")(up_conv_32)\n",
        "    up_64 = layers.concatenate([up_64, att_64], axis=axis)\n",
        "    up_conv_64 = res_conv_block(up_64, FILTER_SIZE, 2*FILTER_NUM, dropout_rate, batch_norm)\n",
        "    # UpRes 9\n",
        "    gating_128 = gating_signal(up_conv_64, FILTER_NUM, batch_norm)\n",
        "    att_128 = attention_block(conv_128, gating_128, FILTER_NUM)\n",
        "    up_128 = layers.UpSampling2D(size=(UP_SAMP_SIZE, UP_SAMP_SIZE), data_format=\"channels_last\")(up_conv_64)\n",
        "    up_128 = layers.concatenate([up_128, att_128], axis=axis)\n",
        "    up_conv_128 = res_conv_block(up_128, FILTER_SIZE, FILTER_NUM, dropout_rate, batch_norm)\n",
        "\n",
        "    # 1*1 convolutional layers\n",
        "\n",
        "    conv_final = layers.Conv2D(NUM_CLASSES, kernel_size=(1,1))(up_conv_128)\n",
        "    conv_final = layers.BatchNormalization(axis=axis)(conv_final)\n",
        "    conv_final = layers.Activation('softmax')(conv_final)  #Change to softmax for multichannel\n",
        "\n",
        "    # Model integration\n",
        "    model = models.Model(inputs, conv_final, name=\"AttentionResUNet\")\n",
        "    return model\n",
        "\n",
        "input_shape = (208,208,1)\n",
        "UNet(input_shape, NUM_CLASSES=4, dropout_rate=0.0, batch_norm=True)"
      ]
    },
    {
      "cell_type": "code",
      "execution_count": null,
      "metadata": {
        "id": "HTkiEQ5cpw4t"
      },
      "outputs": [],
      "source": [
        "att_res_unet = Attention_ResUNet(input_shape)"
      ]
    },
    {
      "cell_type": "code",
      "execution_count": null,
      "metadata": {
        "id": "9KQ98w2dqHWd"
      },
      "outputs": [],
      "source": [
        "print(att_res_unet.summary()\n",
        ")"
      ]
    },
    {
      "cell_type": "markdown",
      "metadata": {
        "id": "FemRi2Hu504V"
      },
      "source": [
        "Attention res unet with concatenation\n"
      ]
    },
    {
      "cell_type": "code",
      "source": [
        "att_unet = Attention_UNet(input_shape)\n"
      ],
      "metadata": {
        "id": "uZPi0wVfHUcR"
      },
      "execution_count": null,
      "outputs": []
    },
    {
      "cell_type": "code",
      "source": [
        "att_unet.summary()"
      ],
      "metadata": {
        "id": "uyeL-oBYHUOC"
      },
      "execution_count": null,
      "outputs": []
    },
    {
      "cell_type": "code",
      "execution_count": null,
      "metadata": {
        "id": "YmNw__EL5gSD"
      },
      "outputs": [],
      "source": []
    },
    {
      "cell_type": "code",
      "execution_count": null,
      "metadata": {
        "id": "opGTbzu2c4IW"
      },
      "outputs": [],
      "source": [
        "att_res_unet_model = Attention_ResUNet_concat(input_shape)"
      ]
    },
    {
      "cell_type": "code",
      "execution_count": null,
      "metadata": {
        "id": "-50SHvAC6lrv"
      },
      "outputs": [],
      "source": [
        "att_res_unet2.compile(optimizer=Adam(learning_rate = 1e-3), loss= loss, metrics=[dice_coef, jacard_coef])\n"
      ]
    },
    {
      "cell_type": "code",
      "execution_count": null,
      "metadata": {
        "id": "d2h0-XfSskI9"
      },
      "outputs": [],
      "source": [
        "att_seres_unet2.compile(optimizer=Adam(learning_rate = 1e-3), loss= loss, metrics=[dice_coef, jacard_coef])"
      ]
    },
    {
      "cell_type": "code",
      "execution_count": null,
      "metadata": {
        "id": "4NjLx7UtddEA"
      },
      "outputs": [],
      "source": [
        "print(att_res_unet_model.summary())"
      ]
    },
    {
      "cell_type": "code",
      "execution_count": null,
      "metadata": {
        "id": "9CQQpkLNZtx2"
      },
      "outputs": [],
      "source": [
        "att_res_unet.compile(optimizer=Adam(learning_rate = 1e-3), loss= loss, metrics=[dice_coef, jacard_coef])\n"
      ]
    },
    {
      "cell_type": "code",
      "execution_count": null,
      "metadata": {
        "id": "ELN7kpt7p7jA",
        "colab": {
          "base_uri": "https://localhost:8080/"
        },
        "outputId": "38ffc282-2391-4343-f730-e43677c8802b"
      },
      "outputs": [
        {
          "output_type": "stream",
          "name": "stdout",
          "text": [
            "Model: \"UNet\"\n",
            "__________________________________________________________________________________________________\n",
            " Layer (type)                Output Shape                 Param #   Connected to                  \n",
            "==================================================================================================\n",
            " input_2 (InputLayer)        [(None, 208, 208, 1)]        0         []                            \n",
            "                                                                                                  \n",
            " conv2d_19 (Conv2D)          (None, 208, 208, 64)         640       ['input_2[0][0]']             \n",
            "                                                                                                  \n",
            " batch_normalization_19 (Ba  (None, 208, 208, 64)         256       ['conv2d_19[0][0]']           \n",
            " tchNormalization)                                                                                \n",
            "                                                                                                  \n",
            " activation_19 (Activation)  (None, 208, 208, 64)         0         ['batch_normalization_19[0][0]\n",
            "                                                                    ']                            \n",
            "                                                                                                  \n",
            " conv2d_20 (Conv2D)          (None, 208, 208, 64)         36928     ['activation_19[0][0]']       \n",
            "                                                                                                  \n",
            " batch_normalization_20 (Ba  (None, 208, 208, 64)         256       ['conv2d_20[0][0]']           \n",
            " tchNormalization)                                                                                \n",
            "                                                                                                  \n",
            " activation_20 (Activation)  (None, 208, 208, 64)         0         ['batch_normalization_20[0][0]\n",
            "                                                                    ']                            \n",
            "                                                                                                  \n",
            " max_pooling2d_4 (MaxPoolin  (None, 104, 104, 64)         0         ['activation_20[0][0]']       \n",
            " g2D)                                                                                             \n",
            "                                                                                                  \n",
            " conv2d_21 (Conv2D)          (None, 104, 104, 128)        73856     ['max_pooling2d_4[0][0]']     \n",
            "                                                                                                  \n",
            " batch_normalization_21 (Ba  (None, 104, 104, 128)        512       ['conv2d_21[0][0]']           \n",
            " tchNormalization)                                                                                \n",
            "                                                                                                  \n",
            " activation_21 (Activation)  (None, 104, 104, 128)        0         ['batch_normalization_21[0][0]\n",
            "                                                                    ']                            \n",
            "                                                                                                  \n",
            " conv2d_22 (Conv2D)          (None, 104, 104, 128)        147584    ['activation_21[0][0]']       \n",
            "                                                                                                  \n",
            " batch_normalization_22 (Ba  (None, 104, 104, 128)        512       ['conv2d_22[0][0]']           \n",
            " tchNormalization)                                                                                \n",
            "                                                                                                  \n",
            " activation_22 (Activation)  (None, 104, 104, 128)        0         ['batch_normalization_22[0][0]\n",
            "                                                                    ']                            \n",
            "                                                                                                  \n",
            " max_pooling2d_5 (MaxPoolin  (None, 52, 52, 128)          0         ['activation_22[0][0]']       \n",
            " g2D)                                                                                             \n",
            "                                                                                                  \n",
            " conv2d_23 (Conv2D)          (None, 52, 52, 256)          295168    ['max_pooling2d_5[0][0]']     \n",
            "                                                                                                  \n",
            " batch_normalization_23 (Ba  (None, 52, 52, 256)          1024      ['conv2d_23[0][0]']           \n",
            " tchNormalization)                                                                                \n",
            "                                                                                                  \n",
            " activation_23 (Activation)  (None, 52, 52, 256)          0         ['batch_normalization_23[0][0]\n",
            "                                                                    ']                            \n",
            "                                                                                                  \n",
            " conv2d_24 (Conv2D)          (None, 52, 52, 256)          590080    ['activation_23[0][0]']       \n",
            "                                                                                                  \n",
            " batch_normalization_24 (Ba  (None, 52, 52, 256)          1024      ['conv2d_24[0][0]']           \n",
            " tchNormalization)                                                                                \n",
            "                                                                                                  \n",
            " activation_24 (Activation)  (None, 52, 52, 256)          0         ['batch_normalization_24[0][0]\n",
            "                                                                    ']                            \n",
            "                                                                                                  \n",
            " max_pooling2d_6 (MaxPoolin  (None, 26, 26, 256)          0         ['activation_24[0][0]']       \n",
            " g2D)                                                                                             \n",
            "                                                                                                  \n",
            " conv2d_25 (Conv2D)          (None, 26, 26, 512)          1180160   ['max_pooling2d_6[0][0]']     \n",
            "                                                                                                  \n",
            " batch_normalization_25 (Ba  (None, 26, 26, 512)          2048      ['conv2d_25[0][0]']           \n",
            " tchNormalization)                                                                                \n",
            "                                                                                                  \n",
            " activation_25 (Activation)  (None, 26, 26, 512)          0         ['batch_normalization_25[0][0]\n",
            "                                                                    ']                            \n",
            "                                                                                                  \n",
            " conv2d_26 (Conv2D)          (None, 26, 26, 512)          2359808   ['activation_25[0][0]']       \n",
            "                                                                                                  \n",
            " batch_normalization_26 (Ba  (None, 26, 26, 512)          2048      ['conv2d_26[0][0]']           \n",
            " tchNormalization)                                                                                \n",
            "                                                                                                  \n",
            " activation_26 (Activation)  (None, 26, 26, 512)          0         ['batch_normalization_26[0][0]\n",
            "                                                                    ']                            \n",
            "                                                                                                  \n",
            " max_pooling2d_7 (MaxPoolin  (None, 13, 13, 512)          0         ['activation_26[0][0]']       \n",
            " g2D)                                                                                             \n",
            "                                                                                                  \n",
            " conv2d_27 (Conv2D)          (None, 13, 13, 1024)         4719616   ['max_pooling2d_7[0][0]']     \n",
            "                                                                                                  \n",
            " batch_normalization_27 (Ba  (None, 13, 13, 1024)         4096      ['conv2d_27[0][0]']           \n",
            " tchNormalization)                                                                                \n",
            "                                                                                                  \n",
            " activation_27 (Activation)  (None, 13, 13, 1024)         0         ['batch_normalization_27[0][0]\n",
            "                                                                    ']                            \n",
            "                                                                                                  \n",
            " conv2d_28 (Conv2D)          (None, 13, 13, 1024)         9438208   ['activation_27[0][0]']       \n",
            "                                                                                                  \n",
            " batch_normalization_28 (Ba  (None, 13, 13, 1024)         4096      ['conv2d_28[0][0]']           \n",
            " tchNormalization)                                                                                \n",
            "                                                                                                  \n",
            " activation_28 (Activation)  (None, 13, 13, 1024)         0         ['batch_normalization_28[0][0]\n",
            "                                                                    ']                            \n",
            "                                                                                                  \n",
            " up_sampling2d_4 (UpSamplin  (None, 26, 26, 1024)         0         ['activation_28[0][0]']       \n",
            " g2D)                                                                                             \n",
            "                                                                                                  \n",
            " concatenate_4 (Concatenate  (None, 26, 26, 1536)         0         ['up_sampling2d_4[0][0]',     \n",
            " )                                                                   'activation_26[0][0]']       \n",
            "                                                                                                  \n",
            " conv2d_29 (Conv2D)          (None, 26, 26, 512)          7078400   ['concatenate_4[0][0]']       \n",
            "                                                                                                  \n",
            " batch_normalization_29 (Ba  (None, 26, 26, 512)          2048      ['conv2d_29[0][0]']           \n",
            " tchNormalization)                                                                                \n",
            "                                                                                                  \n",
            " activation_29 (Activation)  (None, 26, 26, 512)          0         ['batch_normalization_29[0][0]\n",
            "                                                                    ']                            \n",
            "                                                                                                  \n",
            " conv2d_30 (Conv2D)          (None, 26, 26, 512)          2359808   ['activation_29[0][0]']       \n",
            "                                                                                                  \n",
            " batch_normalization_30 (Ba  (None, 26, 26, 512)          2048      ['conv2d_30[0][0]']           \n",
            " tchNormalization)                                                                                \n",
            "                                                                                                  \n",
            " activation_30 (Activation)  (None, 26, 26, 512)          0         ['batch_normalization_30[0][0]\n",
            "                                                                    ']                            \n",
            "                                                                                                  \n",
            " up_sampling2d_5 (UpSamplin  (None, 52, 52, 512)          0         ['activation_30[0][0]']       \n",
            " g2D)                                                                                             \n",
            "                                                                                                  \n",
            " concatenate_5 (Concatenate  (None, 52, 52, 768)          0         ['up_sampling2d_5[0][0]',     \n",
            " )                                                                   'activation_24[0][0]']       \n",
            "                                                                                                  \n",
            " conv2d_31 (Conv2D)          (None, 52, 52, 256)          1769728   ['concatenate_5[0][0]']       \n",
            "                                                                                                  \n",
            " batch_normalization_31 (Ba  (None, 52, 52, 256)          1024      ['conv2d_31[0][0]']           \n",
            " tchNormalization)                                                                                \n",
            "                                                                                                  \n",
            " activation_31 (Activation)  (None, 52, 52, 256)          0         ['batch_normalization_31[0][0]\n",
            "                                                                    ']                            \n",
            "                                                                                                  \n",
            " conv2d_32 (Conv2D)          (None, 52, 52, 256)          590080    ['activation_31[0][0]']       \n",
            "                                                                                                  \n",
            " batch_normalization_32 (Ba  (None, 52, 52, 256)          1024      ['conv2d_32[0][0]']           \n",
            " tchNormalization)                                                                                \n",
            "                                                                                                  \n",
            " activation_32 (Activation)  (None, 52, 52, 256)          0         ['batch_normalization_32[0][0]\n",
            "                                                                    ']                            \n",
            "                                                                                                  \n",
            " up_sampling2d_6 (UpSamplin  (None, 104, 104, 256)        0         ['activation_32[0][0]']       \n",
            " g2D)                                                                                             \n",
            "                                                                                                  \n",
            " concatenate_6 (Concatenate  (None, 104, 104, 384)        0         ['up_sampling2d_6[0][0]',     \n",
            " )                                                                   'activation_22[0][0]']       \n",
            "                                                                                                  \n",
            " conv2d_33 (Conv2D)          (None, 104, 104, 128)        442496    ['concatenate_6[0][0]']       \n",
            "                                                                                                  \n",
            " batch_normalization_33 (Ba  (None, 104, 104, 128)        512       ['conv2d_33[0][0]']           \n",
            " tchNormalization)                                                                                \n",
            "                                                                                                  \n",
            " activation_33 (Activation)  (None, 104, 104, 128)        0         ['batch_normalization_33[0][0]\n",
            "                                                                    ']                            \n",
            "                                                                                                  \n",
            " conv2d_34 (Conv2D)          (None, 104, 104, 128)        147584    ['activation_33[0][0]']       \n",
            "                                                                                                  \n",
            " batch_normalization_34 (Ba  (None, 104, 104, 128)        512       ['conv2d_34[0][0]']           \n",
            " tchNormalization)                                                                                \n",
            "                                                                                                  \n",
            " activation_34 (Activation)  (None, 104, 104, 128)        0         ['batch_normalization_34[0][0]\n",
            "                                                                    ']                            \n",
            "                                                                                                  \n",
            " up_sampling2d_7 (UpSamplin  (None, 208, 208, 128)        0         ['activation_34[0][0]']       \n",
            " g2D)                                                                                             \n",
            "                                                                                                  \n",
            " concatenate_7 (Concatenate  (None, 208, 208, 192)        0         ['up_sampling2d_7[0][0]',     \n",
            " )                                                                   'activation_20[0][0]']       \n",
            "                                                                                                  \n",
            " conv2d_35 (Conv2D)          (None, 208, 208, 64)         110656    ['concatenate_7[0][0]']       \n",
            "                                                                                                  \n",
            " batch_normalization_35 (Ba  (None, 208, 208, 64)         256       ['conv2d_35[0][0]']           \n",
            " tchNormalization)                                                                                \n",
            "                                                                                                  \n",
            " activation_35 (Activation)  (None, 208, 208, 64)         0         ['batch_normalization_35[0][0]\n",
            "                                                                    ']                            \n",
            "                                                                                                  \n",
            " conv2d_36 (Conv2D)          (None, 208, 208, 64)         36928     ['activation_35[0][0]']       \n",
            "                                                                                                  \n",
            " batch_normalization_36 (Ba  (None, 208, 208, 64)         256       ['conv2d_36[0][0]']           \n",
            " tchNormalization)                                                                                \n",
            "                                                                                                  \n",
            " activation_36 (Activation)  (None, 208, 208, 64)         0         ['batch_normalization_36[0][0]\n",
            "                                                                    ']                            \n",
            "                                                                                                  \n",
            " conv2d_37 (Conv2D)          (None, 208, 208, 4)          260       ['activation_36[0][0]']       \n",
            "                                                                                                  \n",
            " batch_normalization_37 (Ba  (None, 208, 208, 4)          16        ['conv2d_37[0][0]']           \n",
            " tchNormalization)                                                                                \n",
            "                                                                                                  \n",
            " activation_37 (Activation)  (None, 208, 208, 4)          0         ['batch_normalization_37[0][0]\n",
            "                                                                    ']                            \n",
            "                                                                                                  \n",
            "==================================================================================================\n",
            "Total params: 31401556 (119.79 MB)\n",
            "Trainable params: 31389772 (119.74 MB)\n",
            "Non-trainable params: 11784 (46.03 KB)\n",
            "__________________________________________________________________________________________________\n",
            "None\n"
          ]
        }
      ],
      "source": [
        "\n",
        "unet_model = UNet(input_shape)\n",
        "unet_model.compile(optimizer=Adam(learning_rate = 1e-3), loss= loss, metrics=[dice_coef, jacard_coef])\n",
        "\n"
      ]
    },
    {
      "cell_type": "code",
      "execution_count": null,
      "metadata": {
        "id": "ZfBbcvHKA5yO"
      },
      "outputs": [],
      "source": [
        "\n",
        "# we create two instances with the same arguments\n",
        "#data_gen_args = dict(featurewise_center=False,\n",
        "#                     featurewise_std_normalization=False,\n",
        "#                     rotation_range=0,\n",
        "#                     width_shift_range=0,\n",
        "#                     height_shift_range=0,\n",
        "#                     zoom_range=0)\n",
        "\n",
        "image_datagen = ImageDataGenerator()\n",
        "mask_datagen = ImageDataGenerator()\n",
        "\n",
        "\n",
        "#valid_datagen = image_datagen.flow()\n",
        "# Provide the same seed and keyword arguments to the fit and flow methods\n",
        "seed = 24\n",
        "\n",
        "image_datagen.fit(X_train, augment=False, seed=seed)\n",
        "mask_datagen.fit(y_train_cat, augment=False, seed=seed)\n",
        "image_generator = image_datagen.flow(X_train, batch_size = 16, seed=seed)\n",
        "mask_generator = mask_datagen.flow(y_train_cat, batch_size = 16, seed=seed)\n",
        "\n",
        "valid_img_generator = image_datagen.flow(X_test, batch_size = 16, seed=seed)\n",
        "\n",
        "valid_mask_generator = mask_datagen.flow(y_test_cat, batch_size = 16, seed=seed)\n",
        "\n",
        "\n",
        "\n",
        "# combine generators into one which yields image and masks\n",
        "\n",
        "def my_image_mask_generator(image_generator, mask_generator):\n",
        "\n",
        "    train_generator = zip(image_generator, mask_generator)\n",
        "    for (img, mask) in train_generator:\n",
        "      yield (img, mask)\n",
        "\n",
        "my_generator = my_image_mask_generator(image_generator, mask_generator)\n",
        "\n",
        "validation_datagen = my_image_mask_generator(valid_img_generator, valid_mask_generator)\n",
        "\n",
        "\n"
      ]
    },
    {
      "cell_type": "code",
      "execution_count": null,
      "metadata": {
        "id": "UOdmCIlPeWNj"
      },
      "outputs": [],
      "source": [
        "print(image_generator)"
      ]
    },
    {
      "cell_type": "markdown",
      "metadata": {
        "id": "WHan1urWK1SA"
      },
      "source": []
    },
    {
      "cell_type": "code",
      "execution_count": null,
      "metadata": {
        "id": "-6cFQ6kdEDhT"
      },
      "outputs": [],
      "source": [
        "x = image_generator.next()\n",
        "y = mask_generator.next()\n"
      ]
    },
    {
      "cell_type": "code",
      "execution_count": null,
      "metadata": {
        "id": "aOqRU9k7GQix"
      },
      "outputs": [],
      "source": [
        "x = image_generator.next()\n",
        "y = mask_generator.next()\n",
        "\n",
        "print(x.shape)\n",
        "print(y.shape)\n",
        "\n",
        "#for i in range(0,1):\n",
        "image = x[3,:,:,:]\n",
        "mask = y[3,:,:,1]\n",
        "plt.subplot(1,2,1)\n",
        "plt.imshow(image[:,:,0], cmap='gray')\n",
        "plt.subplot(1,2,2)\n",
        "\n",
        "plt.imshow(mask, cmap='gray')\n",
        "plt.show()\n",
        "\n",
        "\n"
      ]
    },
    {
      "cell_type": "code",
      "execution_count": null,
      "metadata": {
        "id": "9ost5fM6IAk6"
      },
      "outputs": [],
      "source": [
        "checkpoint_filepath = '/content/drive/MyDrive/Cardiac/Trained_models/m&m_whole_6764'\n",
        "model_checkpoint_callback = tf.keras.callbacks.ModelCheckpoint(\n",
        "    filepath=checkpoint_filepath,\n",
        "    save_weights_only=True,\n",
        "    monitor='val_loss',\n",
        "    mode='min',\n",
        "    save_best_only=True)"
      ]
    },
    {
      "cell_type": "code",
      "execution_count": null,
      "metadata": {
        "id": "qQrfBZdzYnlb"
      },
      "outputs": [],
      "source": []
    },
    {
      "cell_type": "code",
      "execution_count": null,
      "metadata": {
        "id": "vEEkDj4aH_HB"
      },
      "outputs": [],
      "source": [
        "\n",
        "att_res_unet2.load_weights('/content/drive/MyDrive/Cardiac/Trained_models/Changed_weights_cropped_acdc_colget2_att_res_unet_176_aug_5128_200.hdf5')\n"
      ]
    },
    {
      "cell_type": "code",
      "source": [
        "checkpoint_filepath = '/content/drive/MyDrive/Cardiac/Trained_models/unet_rotaaug_acdc_clget2_250'\n",
        "model_checkpoint_callback = tf.keras.callbacks.ModelCheckpoint(\n",
        "    filepath=checkpoint_filepath,\n",
        "    save_weights_only=True,\n",
        "    monitor='val_loss',\n",
        "    mode='min',\n",
        "    save_best_only=True)\n"
      ],
      "metadata": {
        "id": "b4P32xAI0IYp"
      },
      "execution_count": null,
      "outputs": []
    },
    {
      "cell_type": "code",
      "source": [
        "unet_model.load_weights('/content/drive/MyDrive/Cardiac/Trained_models/changed_weights _208_acdc_colget2_5128_unet_250.hdf5')"
      ],
      "metadata": {
        "id": "e-mDhmS_FA6Q"
      },
      "execution_count": null,
      "outputs": []
    },
    {
      "cell_type": "code",
      "execution_count": null,
      "metadata": {
        "id": "H2dMH54xWZ-h"
      },
      "outputs": [],
      "source": [
        "checkpoint_filepath = '/content/drive/MyDrive/Cardiac/Trained_models/unet_rotaaug_acdc_clget2_250/checkpoint'\n",
        "#model_checkpoint_callback = tf.keras.callbacks.ModelCheckpoint(\n",
        "#    filepath=checkpoint_filepath,\n",
        "#    save_weights_only=True,\n",
        "#    monitor='val_loss',\n",
        "#    mode='min',\n",
        "#    save_best_only=True)\n",
        "\n",
        "csv_path = '/content/drive/MyDrive/Cardiac/Trained_models/unet_rotaaug_acdc_clget2_250/unet_250.csv'"
      ]
    },
    {
      "cell_type": "code",
      "execution_count": null,
      "metadata": {
        "id": "6yP5c5si5rk-"
      },
      "outputs": [],
      "source": [
        "from tensorflow.keras.callbacks import ModelCheckpoint, CSVLogger, ReduceLROnPlateau, EarlyStopping, TensorBoard\n",
        "\n",
        "\n",
        "callbacks = [ModelCheckpoint(filepath = checkpoint_filepath, save_weights_only=True, monitor='val_loss', mode = 'min',  verbose=1, save_best_only=True),\n",
        "             ReduceLROnPlateau(monitor=\"val_dice_coef\", factor=0.1, patience=50, min_lr=1e-6, verbose=1),\n",
        "             CSVLogger(csv_path), TensorBoard(), EarlyStopping(monitor=\"val_dice_coeff\", patience=30,  restore_best_weights=False)]"
      ]
    },
    {
      "cell_type": "code",
      "source": [
        "\n",
        "start1 = datetime.now()\n",
        "unet_history = unet_model.fit(my_generator, verbose=1, validation_data= validation_datagen, steps_per_epoch=200,validation_steps= 200,\n",
        "                              shuffle = False, epochs=39, callbacks=callbacks)\n",
        "\n",
        "stop1 = datetime.now()\n",
        "\n",
        "#Execution time of the model\n",
        "execution_time_Unet = stop1-start1\n",
        "\n",
        "print(\"att_res_Unet execution time is:\", execution_time_Unet)\n",
        "\n",
        "unet_model.save('/content/drive/MyDrive/Cardiac/Trained_models/unet_250.hdf5')\n"
      ],
      "metadata": {
        "id": "NJE-F2aQj8QY",
        "colab": {
          "base_uri": "https://localhost:8080/",
          "height": 245
        },
        "outputId": "0e6aa588-4bcf-440b-e78e-809a3c7aecbc"
      },
      "execution_count": null,
      "outputs": [
        {
          "output_type": "error",
          "ename": "NameError",
          "evalue": "ignored",
          "traceback": [
            "\u001b[0;31m---------------------------------------------------------------------------\u001b[0m",
            "\u001b[0;31mNameError\u001b[0m                                 Traceback (most recent call last)",
            "\u001b[0;32m<ipython-input-36-3bd75033f809>\u001b[0m in \u001b[0;36m<cell line: 2>\u001b[0;34m()\u001b[0m\n\u001b[1;32m      1\u001b[0m \u001b[0mstart1\u001b[0m \u001b[0;34m=\u001b[0m \u001b[0mdatetime\u001b[0m\u001b[0;34m.\u001b[0m\u001b[0mnow\u001b[0m\u001b[0;34m(\u001b[0m\u001b[0;34m)\u001b[0m\u001b[0;34m\u001b[0m\u001b[0;34m\u001b[0m\u001b[0m\n\u001b[0;32m----> 2\u001b[0;31m unet_history = unet_model.fit(my_generator, verbose=1, validation_data= validation_datagen, steps_per_epoch=200,validation_steps= 200,\n\u001b[0m\u001b[1;32m      3\u001b[0m                               shuffle = False, epochs=39, callbacks=callbacks)\n\u001b[1;32m      4\u001b[0m \u001b[0;34m\u001b[0m\u001b[0m\n\u001b[1;32m      5\u001b[0m \u001b[0mstop1\u001b[0m \u001b[0;34m=\u001b[0m \u001b[0mdatetime\u001b[0m\u001b[0;34m.\u001b[0m\u001b[0mnow\u001b[0m\u001b[0;34m(\u001b[0m\u001b[0;34m)\u001b[0m\u001b[0;34m\u001b[0m\u001b[0;34m\u001b[0m\u001b[0m\n",
            "\u001b[0;31mNameError\u001b[0m: name 'my_generator' is not defined"
          ]
        }
      ]
    },
    {
      "cell_type": "code",
      "execution_count": null,
      "metadata": {
        "id": "tppZIbJFcDw9"
      },
      "outputs": [],
      "source": [
        "\n",
        "start1 = datetime.now()\n",
        "att_res_unet_history = att_res_unet.fit(my_generator, verbose=1, validation_data= validation_datagen, steps_per_epoch=200,validation_steps= 200,\n",
        "                              shuffle = False, epochs=200, callbacks=callbacks)\n",
        "\n",
        "stop1 = datetime.now()\n",
        "\n",
        "#Execution time of the model\n",
        "execution_time_Unet = stop1-start1\n",
        "\n",
        "print(\"att_res_Unet execution time is:\", execution_time_Unet)\n",
        "\n",
        "\n",
        "att_res_unet.save('/content/drive/MyDrive/Cardiac/Trained_models/acdc_colget_fu_slices_rotaug_5194_att_res_unet.hdf5')\n"
      ]
    },
    {
      "cell_type": "code",
      "source": [
        "\n",
        "start1 = datetime.now()\n",
        "att_res_unet_history = att_res_unet.fit(my_generator, verbose=1, validation_data= validation_datagen, steps_per_epoch=200,validation_steps= 200,\n",
        "                              shuffle = False, epochs=200, callbacks=callbacks)\n",
        "\n",
        "stop1 = datetime.now()\n",
        "\n",
        "#Execution time of the model\n",
        "execution_time_Unet = stop1-start1\n",
        "\n",
        "print(\"att_res_Unet execution time is:\", execution_time_Unet)\n",
        "\n",
        "\n",
        "att_res_unet.save('/content/drive/MyDrive/Cardiac/Trained_models/acdc_colget_fu_slices_rotaug_5336_att_res_unet.hdf5')\n"
      ],
      "metadata": {
        "id": "PqHENf_HlFcV"
      },
      "execution_count": null,
      "outputs": []
    },
    {
      "cell_type": "code",
      "execution_count": null,
      "metadata": {
        "id": "Eu9EiBKfp7rE"
      },
      "outputs": [],
      "source": [
        "\n",
        "start1 = datetime.now()\n",
        "unet_history = unet_model.fit(my_generator, verbose=1, validation_data= validation_datagen, steps_per_epoch=200,validation_steps= 250,\n",
        "                              shuffle = False, epochs=250)\n",
        "\n",
        "stop1 = datetime.now()\n",
        "\n",
        "#Execution time of the model\n",
        "execution_time_Unet = stop1-start1\n",
        "\n",
        "print(\"Unet execution time is:\", execution_time_Unet)\n",
        "\n",
        "\n",
        "\n",
        "\n",
        "unet_model.save('/content/drive/MyDrive/Cardiac/cropped_208_acdc_colget2_unet_208_rotaaug_5128_200.hdf5')\n"
      ]
    },
    {
      "cell_type": "code",
      "execution_count": null,
      "metadata": {
        "id": "6GGU-8xMp7xy"
      },
      "outputs": [],
      "source": [
        "unet_model = UNet(input_shape)"
      ]
    },
    {
      "cell_type": "code",
      "execution_count": null,
      "metadata": {
        "id": "NKe1_GURp76O"
      },
      "outputs": [],
      "source": [
        "#model = get_model()\n",
        "unet_model.load_weights('/content/drive/MyDrive/Cardiac/cropped_208_acdc_colget2_unet_176_aug_5128_200.hdf5')\n",
        "#model.load_weights('sandstone_50_epochs_catXentropy_acc_with_weights.hdf5')"
      ]
    },
    {
      "cell_type": "code",
      "execution_count": null,
      "metadata": {
        "id": "2uuTxlUXF1qn"
      },
      "outputs": [],
      "source": [
        "start1 = datetime.now()\n",
        "unet_history = unet_model.fit(my_generator, verbose=1, validation_data= validation_datagen, steps_per_epoch=200,validation_steps= 250,\n",
        "                              shuffle = False, epochs=200)\n",
        "\n",
        "stop1 = datetime.now()\n",
        "\n",
        "#Execution time of the model\n",
        "execution_time_Unet = stop1-start1\n",
        "\n",
        "print(\"Unet execution time is:\", execution_time_Unet)\n",
        "\n",
        "\n",
        "\n",
        "\n",
        "unet_model.save('/content/drive/MyDrive/Cardiac/Retrain_cropped_208_acdc_colget2_unet_176_aug_5128_200.hdf5')"
      ]
    },
    {
      "cell_type": "code",
      "execution_count": null,
      "metadata": {
        "id": "j4dFy6FnF1z6"
      },
      "outputs": [],
      "source": [
        "loaded_model = models.load_model('/content/drive/MyDrive/Cardiac/Trained_models/cropped_208_acdc_colget2_unet_176_aug_5128_200.hdf5')"
      ]
    },
    {
      "cell_type": "code",
      "execution_count": null,
      "metadata": {
        "id": "S5i6nJXLF17o"
      },
      "outputs": [],
      "source": []
    },
    {
      "cell_type": "code",
      "execution_count": null,
      "metadata": {
        "id": "ouZS05JwZblT",
        "colab": {
          "base_uri": "https://localhost:8080/"
        },
        "outputId": "d26912bc-fc27-4223-9ded-7ca5607a4317"
      },
      "outputs": [
        {
          "output_type": "execute_result",
          "data": {
            "text/plain": [
              "(513, 208, 208, 1)"
            ]
          },
          "metadata": {},
          "execution_count": 33
        }
      ],
      "source": [
        "X_test.shape"
      ]
    },
    {
      "cell_type": "code",
      "execution_count": null,
      "metadata": {
        "id": "CW5oJhlxp8Bu",
        "colab": {
          "base_uri": "https://localhost:8080/"
        },
        "outputId": "b105ecc5-44e9-4b65-8945-c438641fd701"
      },
      "outputs": [
        {
          "output_type": "stream",
          "name": "stdout",
          "text": [
            "17/17 [==============================] - 24s 420ms/step\n"
          ]
        }
      ],
      "source": [
        "#IOU\n",
        "y_pred=unet_model.predict(X_test)\n",
        "y_pred_argmax=np.argmax(y_pred, axis=3)\n"
      ]
    },
    {
      "cell_type": "code",
      "execution_count": null,
      "metadata": {
        "id": "7lyOqCRvkHzT",
        "colab": {
          "base_uri": "https://localhost:8080/"
        },
        "outputId": "f32e17b6-014e-46e9-e823-7bc85bb44338"
      },
      "outputs": [
        {
          "output_type": "execute_result",
          "data": {
            "text/plain": [
              "(513, 208, 208)"
            ]
          },
          "metadata": {},
          "execution_count": 35
        }
      ],
      "source": [
        "y_pred_argmax.shape"
      ]
    },
    {
      "cell_type": "code",
      "execution_count": null,
      "metadata": {
        "id": "x_L9y3FoZoij",
        "colab": {
          "base_uri": "https://localhost:8080/",
          "height": 308
        },
        "outputId": "2a7fe291-cc55-462b-823c-5b3da7f3ef5e"
      },
      "outputs": [
        {
          "output_type": "execute_result",
          "data": {
            "text/plain": [
              "<matplotlib.image.AxesImage at 0x7b5d8c349780>"
            ]
          },
          "metadata": {},
          "execution_count": 66
        },
        {
          "output_type": "display_data",
          "data": {
            "text/plain": [
              "<Figure size 640x480 with 2 Axes>"
            ],
            "image/png": "[encoded data removed]"
          },
          "metadata": {}
        }
      ],
      "source": [
        "plt.subplot(1,2,1)\n",
        "plt.imshow(X_test[15,:,:,0], cmap = 'gray')\n",
        "plt.subplot(1,2,2)\n",
        "plt.imshow(y_pred_argmax[111,:,:], cmap = 'gray')\n"
      ]
    },
    {
      "cell_type": "code",
      "source": [
        "from PIL import Image"
      ],
      "metadata": {
        "id": "Fg6qngKswhvj"
      },
      "execution_count": null,
      "outputs": []
    },
    {
      "cell_type": "code",
      "source": [
        "\n",
        "selected_image = X_test[115, :, :, 0]\n",
        "plt.imshow(selected_image,cmap='gray')\n",
        "plt.axis('off')\n",
        "plt.savefig('selected_image.png',pad_inches=0)\n",
        "\n",
        "\n",
        "# Convert the NumPy array to a PIL Image\n",
        "#image_to_save = Image.fromarray((selected_image * 255))\n",
        "\n",
        "# Save the image as PNG\n",
        "#image_to_save.save('saved_image.png')\n",
        "\n",
        "# Save the image as JPG\n",
        "#image_to_save.save('saved_image.jpg')"
      ],
      "metadata": {
        "id": "bgoxjpLbxUCd",
        "colab": {
          "base_uri": "https://localhost:8080/",
          "height": 406
        },
        "outputId": "ce04221b-9734-4441-b2c9-4b268fa98720"
      },
      "execution_count": null,
      "outputs": [
        {
          "output_type": "display_data",
          "data": {
            "text/plain": [
              "<Figure size 640x480 with 1 Axes>"
            ],
            "image/png": "[encoded data removed]"
          },
          "metadata": {}
        }
      ]
    },
    {
      "cell_type": "code",
      "execution_count": null,
      "metadata": {
        "id": "EZm5EndnZoyw",
        "colab": {
          "base_uri": "https://localhost:8080/"
        },
        "outputId": "982a5148-7705-4769-c78d-f18beb8529c8"
      },
      "outputs": [
        {
          "output_type": "execute_result",
          "data": {
            "text/plain": [
              "True"
            ]
          },
          "metadata": {},
          "execution_count": 67
        }
      ],
      "source": [
        "import cv2\n",
        "\n",
        "selected_image = X_test[15, :, :, 0]\n",
        "selected_image=(selected_image -np.min(selected_image))/(np.max(selected_image) -np.min(selected_image))\n",
        "\n",
        "# Rescale values to the range [0, 255]\n",
        "#selected_image_rescaled = (selected_image * 255).astype(np.uint8))\n",
        "\n",
        "# Save the image using OpenCV\n",
        "cv2.imwrite('selected_image_opencv16.png', selected_image*255)"
      ]
    },
    {
      "cell_type": "code",
      "execution_count": null,
      "metadata": {
        "id": "B5pPcMFVZo5w"
      },
      "outputs": [],
      "source": []
    },
    {
      "cell_type": "markdown",
      "metadata": {
        "id": "re7yAN07v6gR"
      },
      "source": [
        "Dice score cells followed by IOU cells\n"
      ]
    },
    {
      "cell_type": "code",
      "execution_count": null,
      "metadata": {
        "id": "mBdjOsgp8Ir6"
      },
      "outputs": [],
      "source": [
        "pip install MedPy\n"
      ]
    },
    {
      "cell_type": "code",
      "execution_count": null,
      "metadata": {
        "id": "Fo7ks_6J8Icp"
      },
      "outputs": [],
      "source": [
        "import pandas as pd\n",
        "from medpy.metric.binary import hd, dc, assd\n",
        "import os"
      ]
    },
    {
      "cell_type": "code",
      "execution_count": null,
      "metadata": {
        "id": "pY2GnT2u8gFG"
      },
      "outputs": [],
      "source": [
        "dir_gt = os.path.join('/content/drive/MyDrive/Sunnybrook/final_scd_gt')\n",
        "dir_og = os.path.join('/content/drive/MyDrive/Sunnybrook/JPEGs')"
      ]
    },
    {
      "cell_type": "code",
      "execution_count": null,
      "metadata": {
        "id": "IvP0-j_oeRV_"
      },
      "outputs": [],
      "source": [
        "!pip install pillow\n"
      ]
    },
    {
      "cell_type": "code",
      "execution_count": null,
      "metadata": {
        "id": "zYtKrED7-2Rh"
      },
      "outputs": [],
      "source": [
        "import glob\n",
        "from PIL import Image\n",
        "import numpy as np\n"
      ]
    },
    {
      "cell_type": "code",
      "execution_count": null,
      "metadata": {
        "id": "qfyL2ppRX4N9"
      },
      "outputs": [],
      "source": [
        "!pip install pydicom"
      ]
    },
    {
      "cell_type": "code",
      "execution_count": null,
      "metadata": {
        "id": "Mlhy2XgnRyZO"
      },
      "outputs": [],
      "source": [
        "from skimage import transform"
      ]
    },
    {
      "cell_type": "code",
      "execution_count": null,
      "metadata": {
        "id": "RXuj7uUHTD7S"
      },
      "outputs": [],
      "source": [
        "from pydicom import dcmread"
      ]
    },
    {
      "cell_type": "code",
      "execution_count": null,
      "metadata": {
        "id": "tRha42aSfcyf"
      },
      "outputs": [],
      "source": [
        "print(data.shape)"
      ]
    },
    {
      "cell_type": "code",
      "execution_count": null,
      "metadata": {
        "id": "k3h1SXJ3-Ttr"
      },
      "outputs": [],
      "source": [
        "#filenames_gt = sorted(glob(os.path.join(dir_gt)), key= natural_order)\n",
        "\n",
        "filenames_gt = os.listdir(os.path.join(dir_gt))\n",
        "print(sorted(filenames_gt))\n",
        "\n",
        "\n",
        "filenames_og = os.listdir(os.path.join(dir_og))\n",
        "print(sorted(filenames_og))"
      ]
    },
    {
      "cell_type": "code",
      "execution_count": null,
      "metadata": {
        "id": "1NonO7plQPb-"
      },
      "outputs": [],
      "source": [
        "file = '/content/drive/MyDrive/Sunnybrook/Di_GT/SC-HF-NI-04/IM-0001-0041.dcm'\n",
        "\n",
        "ds = dcmread(file)\n",
        "#print(ds)\n",
        "\n",
        "pixel_size = ds.PixelSpacing\n",
        "\n",
        "image = ds.pixel_array"
      ]
    },
    {
      "cell_type": "code",
      "execution_count": null,
      "metadata": {
        "id": "FHhrm3DD_5B3"
      },
      "outputs": [],
      "source": [
        "os.mkdir('/content/drive/MyDrive/Sunnybrook/J_pred')\n",
        "\n",
        "for folder in filenames_og:\n",
        "\n",
        "  folder_path = os.path.join(dir_og,folder)\n",
        "\n",
        "\n",
        "\n",
        "\n",
        "\n"
      ]
    },
    {
      "cell_type": "code",
      "execution_count": null,
      "metadata": {
        "id": "vJKD_mLZTGCU"
      },
      "outputs": [],
      "source": [
        "!pip install pydicom"
      ]
    },
    {
      "cell_type": "code",
      "execution_count": null,
      "metadata": {
        "id": "h1aJuV1sUfii"
      },
      "outputs": [],
      "source": [
        "target_resolution = (1.25,1.25)"
      ]
    },
    {
      "cell_type": "code",
      "execution_count": null,
      "metadata": {
        "id": "iKtk4qIFVnZL"
      },
      "outputs": [],
      "source": [
        "\n",
        "def normalise_image(image):\n",
        "    '''\n",
        "    make image zero mean and unit standard deviation\n",
        "    '''\n",
        "\n",
        "    img_o = np.float32(image.copy())\n",
        "    m = np.mean(img_o)\n",
        "    s = np.std(img_o)\n",
        "    return np.divide((img_o - m), s)\n"
      ]
    },
    {
      "cell_type": "code",
      "execution_count": null,
      "metadata": {
        "id": "qzzGqUOnYK-N"
      },
      "outputs": [],
      "source": [
        "\n",
        "scale_vector = [pixel_size[0] / target_resolution[0], pixel_size[1] / target_resolution[1]]"
      ]
    },
    {
      "cell_type": "code",
      "execution_count": null,
      "metadata": {
        "id": "nzBnhTzoVAm7"
      },
      "outputs": [],
      "source": [
        "\n",
        "\n",
        "def crop_or_pad_slice_to_size(slice, nx, ny):\n",
        "\n",
        "    x, y = slice.shape\n",
        "\n",
        "    x_s = (x - nx) // 2\n",
        "    y_s = (y - ny) // 2\n",
        "    x_c = (nx - x) // 2\n",
        "    y_c = (ny - y) // 2\n",
        "\n",
        "    if x > nx and y > ny:\n",
        "        slice_cropped = slice[x_s:x_s + nx, y_s:y_s + ny]\n",
        "    else:\n",
        "        slice_cropped = np.zeros((nx, ny))\n",
        "        if x <= nx and y > ny:\n",
        "            slice_cropped[x_c:x_c + x, :] = slice[:, y_s:y_s + ny]\n",
        "        elif x > nx and y <= ny:\n",
        "            slice_cropped[:, y_c:y_c + y] = slice[x_s:x_s + nx, :]\n",
        "        else:\n",
        "            slice_cropped[x_c:x_c + x, y_c:y_c + y] = slice[:, :]\n",
        "\n",
        "    return slice_cropped\n"
      ]
    },
    {
      "cell_type": "code",
      "execution_count": null,
      "metadata": {
        "id": "drlyk7Qrxnjr"
      },
      "outputs": [],
      "source": [
        "file = os.path.join('/content/drive/MyDrive/Sunnybrook/GT_raw/SC-HF-I-01/IM-0001-0059_gt_gt.npy')\n",
        "\n",
        "arr = np.load(file)\n",
        "\n",
        "np.unique(arr)"
      ]
    },
    {
      "cell_type": "code",
      "execution_count": null,
      "metadata": {
        "id": "pXk--2Xu_5PC"
      },
      "outputs": [],
      "source": [
        "path = '/content/drive/MyDrive/Sunnybrook/GT_raw'\n",
        "\n",
        "folders = os.listdir(path)\n",
        "\n",
        "dict = {}\n",
        "\n",
        "for folder in folders:\n",
        "\n",
        "  X_test = []\n",
        "  X_gt = []\n",
        "  folder_path = os.path.join(path, folder)\n",
        "\n",
        "  for file in os.listdir(folder_path):\n",
        "\n",
        "    file_base = file.split('.')[0]\n",
        "\n",
        "    file_prefix = file_base.split('_')[-1]\n",
        "\n",
        "    if file_prefix == 'dcm':\n",
        "\n",
        "      file_path = os.path.join(folder_path, file)\n",
        "\n",
        "      X = np.load(file_path)\n",
        "      X_norm = normalise_image(X)\n",
        "      X_scaled = transform.rescale(X_norm,\n",
        "                                  scale_vector,\n",
        "                                  order=1,\n",
        "                                  preserve_range=True,\n",
        "                                          multichannel=False, mode = 'constant')\n",
        "\n",
        "      X_cropped = crop_or_pad_slice_to_size(X_scaled,256,256)\n",
        "\n",
        "      X_test.append(X_cropped)\n",
        "\n",
        "    elif file_prefix == 'gt':\n",
        "\n",
        "       file_path = os.path.join(folder_path, file)\n",
        "\n",
        "       gtu = np.load(file_path)\n",
        "\n",
        "       X_gt.append(gtu)\n",
        "\n",
        "\n",
        "  X_gtu = np.asarray(X_gt)\n",
        "  #print(X_gtu.shape)\n",
        "  X_testy = np.asarray(X_test)\n",
        "\n",
        "\n",
        "  X_test_dim = np.expand_dims(X_testy,3)\n",
        "\n",
        "  y_pred=unet_model.predict(X_test_dim)\n",
        "  y_pred_argmax=np.argmax(y_pred, axis=3)\n",
        "  print(np.unique(y_pred_argmax))\n",
        "\n",
        "  gt_binary = (X_gtu == 2) * 1\n",
        "  print(np.count_nonzero(gt_binary==1))\n",
        "\n",
        "  pred_one = np.where(y_pred_argmax == 3, 0, y_pred_argmax)\n",
        "  pred_two = np.where(pred_one == 1, 0, pred_one)\n",
        "  print(np.unique(pred_two))\n",
        "\n",
        "\n",
        "  pred_binary = (pred_two == 2) * 1\n",
        "  print(np.count_nonzero(pred_binary==1))\n",
        "\n",
        "  dict[folder] = dc(gt_binary, pred_binary)\n",
        "\n",
        "\n"
      ]
    },
    {
      "cell_type": "code",
      "execution_count": null,
      "metadata": {
        "id": "IgWL8nM3xmyB"
      },
      "outputs": [],
      "source": []
    },
    {
      "cell_type": "code",
      "execution_count": null,
      "metadata": {
        "id": "bvtB6d0C_5XR"
      },
      "outputs": [],
      "source": [
        "print(dict)"
      ]
    },
    {
      "cell_type": "code",
      "execution_count": null,
      "metadata": {
        "id": "u0L7ZJ_kVnNe"
      },
      "outputs": [],
      "source": [
        "raw = '/content/drive/MyDrive/Sunnybrook/GT_raw/SC-HF-I-01/IM-0001-0119_dcm.npy'\n",
        "\n",
        "gt =  '/content/drive/MyDrive/Sunnybrook/GT_raw/SC-HF-I-01/IM-0001-0119_gt_gt.npy'\n",
        "\n",
        "\n",
        "x = np.load(raw)\n",
        "\n",
        "x_gt = np.load(gt)\n",
        "\n",
        "x_test = np.expand_dims(x,(0,3))\n",
        "\n",
        "y_pred = unet_model.predict(x_test)\n",
        "y_pred_argmax = np.argmax(y_pred, axis=3)\n",
        "\n",
        "plt.subplot(1,2,1)\n",
        "plt.imshow(x, cmap = 'gray')\n",
        "plt.subplot(1,2,2)\n",
        "plt.imshow(y_pred_argmax[0,:,:], cmap = 'gray')\n",
        "#plt.subplot(1,2,2)\n",
        "#plt.imshow(x_gt, cmap= 'gray')\n"
      ]
    },
    {
      "cell_type": "code",
      "execution_count": null,
      "metadata": {
        "id": "MWKhT3XFzoV9"
      },
      "outputs": [],
      "source": [
        "file = '/content/drive/MyDrive/Sunnybrook/Di_GT/SC-HF-I-01/IM-0001-0079.dcm'\n",
        "\n",
        "ds = dcmread(file)\n",
        "#print(ds)\n",
        "\n",
        "pixel_size = ds.PixelSpacing\n",
        "\n",
        "image_new = ds.pixel_array"
      ]
    },
    {
      "cell_type": "code",
      "execution_count": null,
      "metadata": {
        "id": "FwuLDl1OXcQg"
      },
      "outputs": [],
      "source": [
        "image_norm = normalise_image(image_new)"
      ]
    },
    {
      "cell_type": "code",
      "execution_count": null,
      "metadata": {
        "id": "R-1bM-CAZE3v"
      },
      "outputs": [],
      "source": [
        "image_rescaled = transform.rescale(image_norm,\n",
        "                                               scale_vector,\n",
        "                                                order=1,\n",
        "                                                preserve_range=True,\n",
        "                                                multichannel=False,\n",
        "                                                mode = 'constant')\n"
      ]
    },
    {
      "cell_type": "code",
      "execution_count": null,
      "metadata": {
        "id": "RpO9rxKEZj7M"
      },
      "outputs": [],
      "source": [
        "image_rescaled.shape\n"
      ]
    },
    {
      "cell_type": "code",
      "execution_count": null,
      "metadata": {
        "id": "ow9voToBZnV3"
      },
      "outputs": [],
      "source": [
        "img_crop = crop_or_pad_slice_to_size(image_rescaled, 256, 256)\n"
      ]
    },
    {
      "cell_type": "code",
      "execution_count": null,
      "metadata": {
        "id": "NlqqzMlIZnw-"
      },
      "outputs": [],
      "source": [
        "new_img = np.expand_dims(img_crop,(0,3))"
      ]
    },
    {
      "cell_type": "code",
      "execution_count": null,
      "metadata": {
        "id": "_6ah1LgoVAcD"
      },
      "outputs": [],
      "source": [
        "new_img.shape"
      ]
    },
    {
      "cell_type": "code",
      "execution_count": null,
      "metadata": {
        "id": "mezdQZiUYyP3"
      },
      "outputs": [],
      "source": [
        "#X_dims = np.expand_dims(slice_rescaled,(0,3))\n",
        "\n",
        "x_test = crop_or_pad_slice_to_size(slice_rescaled, 256, 256)\n",
        "\n",
        "x_dims = np.expand_dims(x_test,(0,3))\n",
        "\n",
        "\n",
        "print(x_dims.shape)"
      ]
    },
    {
      "cell_type": "code",
      "execution_count": null,
      "metadata": {
        "id": "FvqN-cLFVACx"
      },
      "outputs": [],
      "source": [
        "y_pred=unet_model.predict(new_img)\n",
        "y_pred_argmax=np.argmax(y_pred, axis=3)\n"
      ]
    },
    {
      "cell_type": "code",
      "execution_count": null,
      "metadata": {
        "id": "v7XalGle1-9-"
      },
      "outputs": [],
      "source": [
        "y_pred_argmax.shape"
      ]
    },
    {
      "cell_type": "code",
      "execution_count": null,
      "metadata": {
        "id": "d4sHYzEyyKFj"
      },
      "outputs": [],
      "source": [
        "pred_one = np.where(y_pred_argmax == 3, 0, y_pred_argmax)\n",
        "pred_two = np.where(pred_one == 1, 0, pred_one)\n",
        "\n",
        "np.unique(pred_two)\n",
        "\n"
      ]
    },
    {
      "cell_type": "code",
      "execution_count": null,
      "metadata": {
        "id": "la9JiWgczeU3"
      },
      "outputs": [],
      "source": [
        "plt.plot()\n",
        "plt.imshow(pred_two[0,:,:], cmap = 'gray')"
      ]
    },
    {
      "cell_type": "code",
      "execution_count": null,
      "metadata": {
        "id": "E3ZwkCv1U_xd"
      },
      "outputs": [],
      "source": [
        "plt.subplot(1,2,1)\n",
        "plt.imshow(y_pred_argmax[0,:,:],cmap='gray')"
      ]
    },
    {
      "cell_type": "code",
      "execution_count": null,
      "metadata": {
        "id": "C7a_osOmYyvH"
      },
      "outputs": [],
      "source": []
    },
    {
      "cell_type": "code",
      "execution_count": null,
      "metadata": {
        "id": "EzcaQc8cYy4j"
      },
      "outputs": [],
      "source": []
    },
    {
      "cell_type": "code",
      "execution_count": null,
      "metadata": {
        "id": "KX0PV8fzYzAA"
      },
      "outputs": [],
      "source": []
    },
    {
      "cell_type": "code",
      "execution_count": null,
      "metadata": {
        "id": "6PZRKE7e7oth"
      },
      "outputs": [],
      "source": [
        "\n",
        "def compute_metrics_on_directories_raw(dir_gt, dir_pred):\n",
        "    \"\"\"\n",
        "    Calculates a number of measures from the predicted and ground truth segmentations:\n",
        "    - Dice\n",
        "    - Hausdorff distance\n",
        "    - Average surface distance\n",
        "    - Predicted volume\n",
        "    - Volume error w.r.t. ground truth\n",
        "\n",
        "    :param dir_gt: Directory of the ground truth segmentation maps.\n",
        "    :param dir_pred: Directory of the predicted segmentation maps.\n",
        "    :return: Pandas dataframe with all measures in a row for each prediction and each structure\n",
        "    \"\"\"\n",
        "\n",
        "    filenames_gt = sorted(glob(os.path.join(dir_gt, '*')), key=natural_order)\n",
        "    filenames_pred = sorted(glob(os.path.join(dir_pred, '*')), key=natural_order)\n",
        "\n",
        "    cardiac_phase = []\n",
        "    file_names = []\n",
        "    structure_names = []\n",
        "\n",
        "    # 5 measures per structure:\n",
        "    dices_list = []\n",
        "    hausdorff_list = []\n",
        "    assd_list = []\n",
        "    vol_list = []\n",
        "    vol_err_list = []\n",
        "\n",
        "    structures_dict = {1: 'RV', 2: 'Myo', 3: 'LV'}\n",
        "\n",
        "    for p_gt, p_pred in zip(filenames_gt, filenames_pred):\n",
        "        if os.path.basename(p_gt) != os.path.basename(p_pred):\n",
        "            raise ValueError(\"The two files don't have the same name\"\n",
        "                             \" {}, {}.\".format(os.path.basename(p_gt),\n",
        "                                               os.path.basename(p_pred)))\n",
        "\n",
        "        # load ground truth and prediction\n",
        "        gt, _, header = utils.load_nii(p_gt)\n",
        "        pred, _, _ = utils.load_nii(p_pred)\n",
        "        zooms = header.get_zooms()\n",
        "\n",
        "        # calculate measures for each structure\n",
        "        for struc in [3,1,2]:\n",
        "\n",
        "            gt_binary = (gt == struc) * 1\n",
        "            pred_binary = (pred == struc) * 1\n",
        "\n",
        "            volpred = pred_binary.sum() * np.prod(zooms) / 1000.\n",
        "            volgt = gt_binary.sum() * np.prod(zooms) / 1000.\n",
        "\n",
        "            vol_list.append(volpred)\n",
        "            vol_err_list.append(volpred - volgt)\n",
        "\n",
        "            if np.sum(gt_binary) == 0 and np.sum(pred_binary) == 0:\n",
        "                dices_list.append(1)\n",
        "                assd_list.append(0)\n",
        "                hausdorff_list.append(0)\n",
        "            elif np.sum(pred_binary) > 0 and np.sum(gt_binary) == 0 or np.sum(pred_binary) == 0 and np.sum(gt_binary) > 0:\n",
        "                logging.warning('Structure missing in either GT (x)or prediction. ASSD and HD will not be accurate.')\n",
        "                dices_list.append(0)\n",
        "                assd_list.append(1)\n",
        "                hausdorff_list.append(1)\n",
        "            else:\n",
        "                hausdorff_list.append(hd(gt_binary, pred_binary, voxelspacing=zooms, connectivity=1))\n",
        "                assd_list.append(assd(pred_binary, gt_binary, voxelspacing=zooms, connectivity=1))\n",
        "                dices_list.append(dc(gt_binary, pred_binary))\n",
        "\n",
        "            cardiac_phase.append(os.path.basename(p_gt).split('.nii.gz')[0].split('_')[-1])\n",
        "            file_names.append(os.path.basename(p_pred))\n",
        "            structure_names.append(structures_dict[struc])\n",
        "\n",
        "\n",
        "    df = pd.DataFrame({'dice': dices_list, 'hd': hausdorff_list, 'assd': assd_list,\n",
        "                       'vol': vol_list, 'vol_err': vol_err_list,\n",
        "                      'phase': cardiac_phase, 'struc': structure_names, 'filename': file_names})\n",
        "\n",
        "    return df"
      ]
    },
    {
      "cell_type": "code",
      "execution_count": null,
      "metadata": {
        "id": "gmovHxDk7oi0"
      },
      "outputs": [],
      "source": []
    },
    {
      "cell_type": "code",
      "execution_count": null,
      "metadata": {
        "id": "7YSsMp5lv2cB"
      },
      "outputs": [],
      "source": [
        "myo_dices_list = []\n",
        "lv_dices_list = []\n",
        "rv_dices_list = []\n",
        "\n",
        "\n",
        "d = defaultdict(list)\n",
        "\n",
        "dices_list = {3:'0',1:'0',2:'0'}\n",
        "\n",
        "v=0\n",
        "\n",
        "for struc in [3,1,2]:\n",
        "\n",
        "    gt_binary = (Y_gt[i,:,:]==struc)*1\n",
        "    pred_binary = (y_pred_argmax[i,:,:]==struc)*1\n",
        "\n",
        "    d[struc].append(dc(gt_binary,pred_binary))\n",
        "\n"
      ]
    },
    {
      "cell_type": "code",
      "execution_count": null,
      "metadata": {
        "id": "vIOT0zzIv2PS"
      },
      "outputs": [],
      "source": []
    },
    {
      "cell_type": "code",
      "execution_count": null,
      "metadata": {
        "id": "FihFnrjLv2ES"
      },
      "outputs": [],
      "source": []
    },
    {
      "cell_type": "code",
      "execution_count": null,
      "metadata": {
        "id": "NGYWbDOXjTri"
      },
      "outputs": [],
      "source": [
        "from keras.metrics import MeanIoU\n",
        "n_classes = 4\n",
        "IOU_keras = MeanIoU(num_classes=n_classes)\n",
        "IOU_keras.update_state(y_test[:,:,:,0], y_pred_argmax)\n",
        "print(\"Mean IoU =\", IOU_keras.result().numpy())\n",
        "\n",
        "\n",
        "#To calculate I0U for each class...\n",
        "values = np.array(IOU_keras.get_weights()).reshape(n_classes, n_classes)\n",
        "print(values)\n",
        "class1_IoU = values[0,0]/(values[0,0] + values[0,1] + values[0,2] + values[0,3] + values[1,0]+ values[2,0]+ values[3,0])\n",
        "class2_IoU = values[1,1]/(values[1,1] + values[1,0] + values[1,2] + values[1,3] + values[0,1]+ values[2,1]+ values[3,1])\n",
        "class3_IoU = values[2,2]/(values[2,2] + values[2,0] + values[2,1] + values[2,3] + values[0,2]+ values[1,2]+ values[3,2])\n",
        "class4_IoU = values[3,3]/(values[3,3] + values[3,0] + values[3,1] + values[3,2] + values[0,3]+ values[1,3]+ values[2,3])\n",
        "\n",
        "print(\"IoU for class1 is: \", class1_IoU)\n",
        "print(\"IoU for class2 is: \", class2_IoU)\n",
        "print(\"IoU for class3 is: \", class3_IoU)\n",
        "print(\"IoU for class4 is: \", class4_IoU)"
      ]
    },
    {
      "cell_type": "code",
      "execution_count": null,
      "metadata": {
        "id": "Fx_tviipjudy"
      },
      "outputs": [],
      "source": []
    },
    {
      "cell_type": "code",
      "execution_count": null,
      "metadata": {
        "id": "5pVMPbjVjumC"
      },
      "outputs": [],
      "source": [
        "'''\n",
        "Attention UNet\n",
        "'''\n",
        "att_unet_model = Attention_UNet(input_shape)\n",
        "\n",
        "att_unet_model.compile(optimizer=Adam(lr = 1e-3), loss=loss,\n",
        "              metrics=[dice_coef, jacard_coef])\n",
        "\n",
        "\n",
        "print(att_unet_model.summary())\n"
      ]
    },
    {
      "cell_type": "code",
      "execution_count": null,
      "metadata": {
        "id": "Es3NoQgljuuk"
      },
      "outputs": [],
      "source": [
        "start2 = datetime.now()\n",
        "att_unet_history = att_unet_model.fit(my_generator, verbose=1, validation_data= validation_datagen, steps_per_epoch=200,validation_steps= 250,\n",
        "                              shuffle = False, epochs=200)\n",
        "\n",
        "stop2 = datetime.now()\n",
        "#Execution time of the model\n",
        "execution_time_Att_Unet = stop2-start2\n",
        "print(\"Attention UNet execution time is: \", execution_time_Att_Unet)\n",
        "\n",
        "att_unet_model.save('/content/drive/MyDrive/Cardiac/train_data/cropped_acdc_200_att_unet_176_aug_4558_focal.hdf5')"
      ]
    },
    {
      "cell_type": "code",
      "execution_count": null,
      "metadata": {
        "id": "kMPd0hDeju2G"
      },
      "outputs": [],
      "source": []
    },
    {
      "cell_type": "code",
      "execution_count": null,
      "metadata": {
        "id": "0UxvjQw4ju9O"
      },
      "outputs": [],
      "source": [
        "#model = get_model()\n",
        "att_unet_model.load_weights('/content/drive/MyDrive/Cardiac/train_data/acdc_myo19_att_unet.hdf5')\n",
        "#model.load_weights('sandstone_50_epochs_catXentropy_acc_with_weights.hdf5')"
      ]
    },
    {
      "cell_type": "code",
      "execution_count": null,
      "metadata": {
        "id": "rkJI17WuIoOf"
      },
      "outputs": [],
      "source": [
        "#IOU\n",
        "y_pred_att=att_unet_model.predict(X_test)\n",
        "y_pred_att_argmax=np.argmax(y_pred_att, axis=3)\n"
      ]
    },
    {
      "cell_type": "code",
      "execution_count": null,
      "metadata": {
        "id": "v-px6HXjjvFV"
      },
      "outputs": [],
      "source": [
        "from keras.metrics import MeanIoU\n",
        "n_classes = 4\n",
        "IOU_keras = MeanIoU(num_classes=n_classes)\n",
        "IOU_keras.update_state(y_test[:,:,:,0], y_pred_att_argmax)\n",
        "print(\"Mean IoU =\", IOU_keras.result().numpy())\n",
        "\n",
        "\n",
        "#To calculate I0U for each class...\n",
        "values = np.array(IOU_keras.get_weights()).reshape(n_classes, n_classes)\n",
        "print(values)\n",
        "class1_IoU = values[0,0]/(values[0,0] + values[0,1] + values[0,2] + values[0,3] + values[1,0]+ values[2,0]+ values[3,0])\n",
        "class2_IoU = values[1,1]/(values[1,1] + values[1,0] + values[1,2] + values[1,3] + values[0,1]+ values[2,1]+ values[3,1])\n",
        "class3_IoU = values[2,2]/(values[2,2] + values[2,0] + values[2,1] + values[2,3] + values[0,2]+ values[1,2]+ values[3,2])\n",
        "class4_IoU = values[3,3]/(values[3,3] + values[3,0] + values[3,1] + values[3,2] + values[0,3]+ values[1,3]+ values[2,3])\n",
        "\n",
        "print(\"IoU for class1 is: \", class1_IoU)\n",
        "print(\"IoU for class2 is: \", class2_IoU)\n",
        "print(\"IoU for class3 is: \", class3_IoU)\n",
        "print(\"IoU for class4 is: \", class4_IoU)"
      ]
    },
    {
      "cell_type": "code",
      "execution_count": null,
      "metadata": {
        "id": "Z1QVsKbUp8OX"
      },
      "outputs": [],
      "source": [
        "path = '/content/drive/MyDrive/Sunnybrook/GT_raw'\n",
        "\n",
        "folders = os.listdir(path)\n",
        "\n",
        "dict = {}\n",
        "\n",
        "for folder in folders:\n",
        "\n",
        "  X_test = []\n",
        "  X_gt = []\n",
        "  folder_path = os.path.join(path, folder)\n",
        "\n",
        "  for file in os.listdir(folder_path):\n",
        "\n",
        "    file_base = file.split('.')[0]\n",
        "\n",
        "    file_prefix = file_base.split('_')[-1]\n",
        "\n",
        "    if file_prefix == 'dcm':\n",
        "\n",
        "      file_path = os.path.join(folder_path, file)\n",
        "\n",
        "      X = np.load(file_path)\n",
        "      X_norm = normalise_image(X)\n",
        "      X_scaled = transform.rescale(X_norm,\n",
        "                                  scale_vector,\n",
        "                                  order=1,\n",
        "                                  preserve_range=True,\n",
        "                                          multichannel=False, mode = 'constant')\n",
        "\n",
        "      X_cropped = crop_or_pad_slice_to_size(X_scaled,256,256)\n",
        "\n",
        "      X_test.append(X_cropped)\n",
        "\n",
        "    elif file_prefix == 'gt':\n",
        "\n",
        "       file_path = os.path.join(folder_path, file)\n",
        "\n",
        "       gtu = np.load(file_path)\n",
        "\n",
        "       X_gt.append(gtu)\n",
        "\n",
        "\n",
        "  X_gtu = np.asarray(X_gt)\n",
        "  #print(X_gtu.shape)\n",
        "  X_testy = np.asarray(X_test)\n",
        "\n",
        "\n",
        "  X_test_dim = np.expand_dims(X_testy,3)\n",
        "\n",
        "  y_pred=att_unet_model.predict(X_test_dim)\n",
        "  y_pred_argmax=np.argmax(y_pred, axis=3)\n",
        "  #print(y_pred_argmax.shape)\n",
        "\n",
        "  gt_binary = (X_gtu == 2) * 1\n",
        "  #print(np.count_nonzero(gt_binary==1))\n",
        "\n",
        "\n",
        "  pred_binary = (y_pred_argmax == 2) * 1\n",
        "  #print(np.count_nonzero(pred_binary==1))\n",
        "\n",
        "  dict [folder] = dc(gt_binary, pred_binary)\n",
        "\n"
      ]
    },
    {
      "cell_type": "code",
      "execution_count": null,
      "metadata": {
        "id": "tu0-QTm330yA"
      },
      "outputs": [],
      "source": [
        "print(dict)"
      ]
    },
    {
      "cell_type": "code",
      "execution_count": null,
      "metadata": {
        "id": "IX74CNCB30-6"
      },
      "outputs": [],
      "source": []
    },
    {
      "cell_type": "code",
      "execution_count": null,
      "metadata": {
        "id": "nPwlxoow31H1"
      },
      "outputs": [],
      "source": []
    },
    {
      "cell_type": "code",
      "execution_count": null,
      "metadata": {
        "id": "9akqyVbSEEZ7"
      },
      "outputs": [],
      "source": []
    },
    {
      "cell_type": "code",
      "execution_count": null,
      "metadata": {
        "id": "lMDssYeFEEjW"
      },
      "outputs": [],
      "source": []
    },
    {
      "cell_type": "code",
      "execution_count": null,
      "metadata": {
        "id": "81oLanInEEpi"
      },
      "outputs": [],
      "source": []
    },
    {
      "cell_type": "code",
      "execution_count": null,
      "metadata": {
        "id": "exNzekKkEEvU"
      },
      "outputs": [],
      "source": []
    },
    {
      "cell_type": "code",
      "execution_count": null,
      "metadata": {
        "id": "H0V5ze01EE6D"
      },
      "outputs": [],
      "source": []
    }
  ],
  "metadata": {
    "accelerator": "GPU",
    "colab": {
      "machine_shape": "hm",
      "provenance": [],
      "include_colab_link": true
    },
    "kernelspec": {
      "display_name": "Python 3",
      "name": "python3"
    },
    "language_info": {
      "name": "python"
    }
  },
  "nbformat": 4,
  "nbformat_minor": 0
}